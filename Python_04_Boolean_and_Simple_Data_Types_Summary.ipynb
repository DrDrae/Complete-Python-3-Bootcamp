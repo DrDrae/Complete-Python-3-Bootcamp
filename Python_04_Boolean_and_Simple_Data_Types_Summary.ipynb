{
  "nbformat": 4,
  "nbformat_minor": 0,
  "metadata": {
    "colab": {
      "name": "Python_04_Boolean_and_Simple_Data_Types_Summary.ipynb",
      "provenance": [],
      "collapsed_sections": [],
      "include_colab_link": true
    },
    "kernelspec": {
      "name": "python3",
      "display_name": "Python 3"
    },
    "language_info": {
      "name": "python"
    }
  },
  "cells": [
    {
      "cell_type": "markdown",
      "metadata": {
        "id": "view-in-github",
        "colab_type": "text"
      },
      "source": [
        "<a href=\"https://colab.research.google.com/github/DrDrae/Complete-Python-3-Bootcamp/blob/master/Python_04_Boolean_and_Simple_Data_Types_Summary.ipynb\" target=\"_parent\"><img src=\"https://colab.research.google.com/assets/colab-badge.svg\" alt=\"Open In Colab\"/></a>"
      ]
    },
    {
      "cell_type": "markdown",
      "metadata": {
        "id": "gpnJb0pAJc5k"
      },
      "source": [
        "\n",
        "<img src=\"https://user-images.githubusercontent.com/91729702/148638441-cfe65bc3-9011-4e1a-861a-9bc780e76f8a.jpg\" alt=\"Wyton Station Logo\" width=\"100%\">\n"
      ]
    },
    {
      "cell_type": "markdown",
      "metadata": {
        "id": "73hkGlBmkii9"
      },
      "source": [
        "\n",
        "**<font color=\"grey\" size=5>Before you get started, don't forget to click \"File\" then \"Save a Copy in GitHub\" to save a copy of this tutorial into your GitHub repository. From the GitHub page that opens click the \"Open in Colab\" button to open your saved tutorial. Save any progress you make by clicking \"File\" then \"Save a Copy in GitHub\" again.</font>**"
      ]
    },
    {
      "cell_type": "markdown",
      "metadata": {
        "id": "zuYrYd78TSYj"
      },
      "source": [
        "**Note:**  If you see a word or phrase highlighted like this **<font color=\"red\">example</font>** you can find a definition in the **Definitions and Terms** section, located at the end of the tutorial."
      ]
    },
    {
      "cell_type": "markdown",
      "metadata": {
        "id": "4ztyeu1VTPrl"
      },
      "source": [
        "***"
      ]
    },
    {
      "cell_type": "markdown",
      "metadata": {
        "id": "Cjke0xC5JPc1"
      },
      "source": [
        "#**Introduction**\n"
      ]
    },
    {
      "cell_type": "markdown",
      "metadata": {
        "id": "W1KVO2n4mmar"
      },
      "source": [
        "In the previous tutorials we have been looking at simple data types. So far we have looked at integer, float and string data types. We have learned many useful ways in which we can use these data types in our code.\n",
        "\n",
        "This tutorial we will focus on a new data type as we learn about Boolean:\n",
        "\n",
        "**Simple data types:**\n",
        "\n",
        "*   <font color=\"grey\">Integer - Whole numbers.</font>\n",
        "*   <font color=\"grey\">Float - Decimal numbers.</font>\n",
        "*   <font color=\"grey\">String - Text.</font>\n",
        "*   **Boolean - True or False**.\n",
        "\n",
        "Boolean values are particularly useful within the logic of our code for setting **<font color=\"red\">conditions</font>** and validating data. This tutorial will explain what booleans are and how they can be used. We'll also look at how we can check the data type of an object and how we can transform one data type to another using Python's built-in functions.\n",
        "\n",
        "#####**What you'll learn in this tutorial?**\n",
        "\n",
        "1.   What are Boolean Data Types.\n",
        "2.   Comparison Operators.\n",
        "3.   Boolean/Logical Operators\n",
        "4.   Checking Data Type.\n",
        "5.   Transforming Data Type.\n",
        "\n",
        "At the end of the tutorial you will have the opportunity to test what you have learned."
      ]
    },
    {
      "cell_type": "markdown",
      "metadata": {
        "id": "e5rj5EfgRLZW"
      },
      "source": [
        "***"
      ]
    },
    {
      "cell_type": "markdown",
      "metadata": {
        "id": "HH_qTlPmyo0U"
      },
      "source": [
        "#**Boolean in Python**\n"
      ]
    },
    {
      "cell_type": "markdown",
      "metadata": {
        "id": "9GxbKjPWl9_D"
      },
      "source": [
        "##**What are Boolean Data Types?**\n",
        "Python works with Boolean Logic, this is a system built around the truth value of expression and objects. The truth value is exactly as it sounds, is something true or not? A boolean data type's technical name is `bool` and can have only one of two values, `True` or `False`. It is important to note that the values `True` and `False` have to be written with a capital letter at the start. Boolean values should also not be inside quotes as this would be a string. Let's confirm this below:"
      ]
    },
    {
      "cell_type": "code",
      "source": [
        "#The code below assigns a boolean value of True to the variable a\n",
        "#the variable a is then output\n",
        "a = True\n",
        "a"
      ],
      "metadata": {
        "id": "0I40i6jZGXsv"
      },
      "execution_count": null,
      "outputs": []
    },
    {
      "cell_type": "code",
      "source": [
        "#The code below will create an error as the boolean value is not written correctly\n",
        "a = true\n",
        "a"
      ],
      "metadata": {
        "id": "Ta2UL6H4Gviz"
      },
      "execution_count": null,
      "outputs": []
    },
    {
      "cell_type": "code",
      "source": [
        "#The code below assigns a value of False but as it is inside quotes Python recognises it as a string\n",
        "#Notice the output displays the word False inside quotes\n",
        "b = \"False\"\n",
        "b"
      ],
      "metadata": {
        "id": "akdCUi4bIFzF"
      },
      "execution_count": null,
      "outputs": []
    },
    {
      "cell_type": "code",
      "source": [
        "#The code below assigns a value of False correctly without quotes\n",
        "#Notice the output displays the word False without quotes\n",
        "b = False\n",
        "b"
      ],
      "metadata": {
        "id": "44xtahSRISzQ"
      },
      "execution_count": null,
      "outputs": []
    },
    {
      "cell_type": "markdown",
      "source": [
        "Every object in python has a boolean value. The following values are considered `False` in Python:\n",
        "\n",
        "*    `None` (a value that represents no value or null value).\n",
        "*    `False`.\n",
        "*    Zero of any numeric type. For example, 0, 0.0.\n",
        "*    Empty sequence. For example, tuples, lists, strings (we'll learn about tuples and lists in a later tutorial).\n",
        "*    Empty mapping. For example, dictionary (we'll learn about dictionaries in a later tutorial).\n",
        "*    objects of Classes (we'll learn about classes in a later tutorial) which has `__bool__()` or `__len()__` method which returns 0 or `False`.\n",
        "\n",
        "All other values except these values are considered true.\n",
        "\n",
        "In basic terms Python objects that are 0, null or empty are `False` until they become populated with more meaningful values where they become `True`.\n"
      ],
      "metadata": {
        "id": "IuFFrqpgtzpX"
      }
    },
    {
      "cell_type": "markdown",
      "metadata": {
        "id": "rHeHbGa4RP-N"
      },
      "source": [
        "***"
      ]
    },
    {
      "cell_type": "markdown",
      "metadata": {
        "id": "txYyaNw5lfGy"
      },
      "source": [
        "## **Why Use Boolean Data Types?**"
      ]
    },
    {
      "cell_type": "markdown",
      "source": [
        "Boolean data types are predominantly the output of an **<font color=\"red\">expression</font>** that checks or compares values. Essentially using boolean data we can conduct checks on our data for specific properties. We can use these checks to filter data we want to use in parts of our code. The expressions we write to conduct these checks use boolean operators and comparison operators. Operators, if you remember from the numbers tutorial, are symbols used to carry out a particular operation. Boolean operators are slightly different to the numerical operators but you will undoubtedly have seen many of them before. Let's look at these new operators in the next two sections."
      ],
      "metadata": {
        "id": "QgVvW23lJrmE"
      }
    },
    {
      "cell_type": "markdown",
      "source": [
        "***"
      ],
      "metadata": {
        "id": "ws3YP-gBJuUY"
      }
    },
    {
      "cell_type": "markdown",
      "source": [
        "## **Comparison Operators**"
      ],
      "metadata": {
        "id": "sksBVa9DJ7Oj"
      }
    },
    {
      "cell_type": "markdown",
      "metadata": {
        "id": "CF_tZcpploTh"
      },
      "source": [
        "In the numbers tutorial we saw how Python can manipulate numbers using operators in very much the same way that you would use a calculator. A different set of operators are used to compare values in boolean expressions, appropriately named comparison operators. Here is a list with examples of comparison operators we can use:\n",
        "\n",
        "Operator  | Function                 | Example | Result |\n",
        "----------|--------------------------|---------|--------|\n",
        "==        | Equal to                 | 4 == 2  |  False |\n",
        "!=        | Not equal to             | 4 != 2  |  True  |\n",
        ">         | Greater than             | 4 > 2   |  True  |\n",
        "<         | Less than                | 4 < 2   |  False |\n",
        ">=        | Greater than or equal to | 4 >= 4  |  True  |  \n",
        "<=        | Less than or equal to    | 4 <= 2  |  False |\n"
      ]
    },
    {
      "cell_type": "markdown",
      "source": [
        "Notice the equal to symbol (`==`) is a duplicated `=` symbol. We know in normal day to day logic that `4 = 4` would be a true statement so why do we need a new double equals sign for this comparison in Python? The short answer is syntax, Python understands specific syntax to give it specific commands and instructions. We have already learned that a single equals sign is used by Python to assign values to variables and using a double equals allows us to differentiate between these commands. It is important not to confuse the two as a single equals sign will not execute a comparison and will likely cause an error in your code. Let's practice a few examples of these comparison operators:"
      ],
      "metadata": {
        "id": "cTiLRVgce_5H"
      }
    },
    {
      "cell_type": "code",
      "metadata": {
        "id": "cNhY0wv1e2S_"
      },
      "source": [
        "# Equal to (try replacing the values below so the output returns False)\n",
        "2 == 2"
      ],
      "execution_count": null,
      "outputs": []
    },
    {
      "cell_type": "code",
      "metadata": {
        "id": "1ijrHCotlw1p"
      },
      "source": [
        "# Not equal to (try replacing the values below so the output returns True)\n",
        "3 != 3"
      ],
      "execution_count": null,
      "outputs": []
    },
    {
      "cell_type": "code",
      "metadata": {
        "id": "5eYFYBg1mBSS"
      },
      "source": [
        "# Greater than (try replacing the values below so the output returns True)\n",
        "1 > 2"
      ],
      "execution_count": null,
      "outputs": []
    },
    {
      "cell_type": "code",
      "metadata": {
        "id": "uAkeqoynoect"
      },
      "source": [
        "# Less than (try replacing the values below so the output returns False)\n",
        "1 < 3\n"
      ],
      "execution_count": null,
      "outputs": []
    },
    {
      "cell_type": "code",
      "metadata": {
        "id": "bj7iMhbioplI"
      },
      "source": [
        "# Greater than or equal to (try replacing the values below so the output returns True)\n",
        "3 >= 4"
      ],
      "execution_count": null,
      "outputs": []
    },
    {
      "cell_type": "code",
      "metadata": {
        "id": "q1Ed0v59hu-W"
      },
      "source": [
        "# Less than or equal to (try replacing the values below so the output returns True)\n",
        "7 <= 4"
      ],
      "execution_count": null,
      "outputs": []
    },
    {
      "cell_type": "markdown",
      "metadata": {
        "id": "PpU4f_wMpFRq"
      },
      "source": [
        "The comparison operators are a useful way to compare data and so far we have used them to compare integer values but what about other data types? Let's have a look below:"
      ]
    },
    {
      "cell_type": "code",
      "source": [
        "'Hello' == 'Hello'"
      ],
      "metadata": {
        "id": "2zNpHWKciXUh"
      },
      "execution_count": null,
      "outputs": []
    },
    {
      "cell_type": "markdown",
      "source": [
        "We can see the comparison of the two string values has indeed returned as boolean True. The comparison is looking for an exact match so if the strings differ things get a little more complicated.  When comparing strings Python compares the unicode (every character has a unique identifying code/number) of the characters. Python also uses lexicographical ordering: first the first two characters are compared, and if they differ this determines the outcome of the comparison; if they are equal, the next two items are compared, and so on, until either sequence is exhausted. This is just something to be aware of when using comparison operators on string values. The below comparison has a difference in case:"
      ],
      "metadata": {
        "id": "XzCICL8jigT9"
      }
    },
    {
      "cell_type": "code",
      "source": [
        "'World' == 'world'"
      ],
      "metadata": {
        "id": "Fo4QQJKoi-Fl"
      },
      "execution_count": null,
      "outputs": []
    },
    {
      "cell_type": "markdown",
      "source": [
        "Python has a built-in function to get the unicode of a value `ord()`. The print statement below injects the `ord()` function inside an f-string to demonstrate this:"
      ],
      "metadata": {
        "id": "EjHKz6ONjChW"
      }
    },
    {
      "cell_type": "code",
      "source": [
        "print(f\"The unicode value of 'W' is {ord('W')}\")\n",
        "print(f\"The unicode value of 'w' is {ord('w')}\")"
      ],
      "metadata": {
        "id": "I1R7hrZrjFOF"
      },
      "execution_count": null,
      "outputs": []
    },
    {
      "cell_type": "markdown",
      "source": [
        "This confirms why `'World' == 'world'` returns a `False` value, the lowercase 'w' has a unicode higher than the uppercase 'W'."
      ],
      "metadata": {
        "id": "9Tal7lFYq5m3"
      }
    },
    {
      "cell_type": "markdown",
      "source": [
        "What if we compare different data types?"
      ],
      "metadata": {
        "id": "Gl4PKKLxrdU2"
      }
    },
    {
      "cell_type": "code",
      "metadata": {
        "id": "XpOfn4hmpd-a"
      },
      "source": [
        "'1' == 1"
      ],
      "execution_count": null,
      "outputs": []
    },
    {
      "cell_type": "markdown",
      "source": [
        "The above code returns `False` because the string value of '1' is not the same as the integer of 1. What if we compare greater or less than?"
      ],
      "metadata": {
        "id": "CH5-iBwtsErp"
      }
    },
    {
      "cell_type": "code",
      "source": [
        "'1' > 1"
      ],
      "metadata": {
        "id": "OYxxoE7WsWjA"
      },
      "execution_count": null,
      "outputs": []
    },
    {
      "cell_type": "markdown",
      "source": [
        "We get a syntax error informing us that the comparison operator is not supported between these different data types. So data type is important!"
      ],
      "metadata": {
        "id": "oUV8gsD8sciH"
      }
    },
    {
      "cell_type": "markdown",
      "metadata": {
        "id": "1hZqrhG6RTqs"
      },
      "source": [
        "***"
      ]
    },
    {
      "cell_type": "markdown",
      "source": [
        "## **Boolean/Logical Operators**"
      ],
      "metadata": {
        "id": "xH-XY8VmUeL1"
      }
    },
    {
      "cell_type": "markdown",
      "source": [
        "Python also has three boolean operators, sometimes referred to as logical operators, that can be used to further refine the conditions that we check for in our data:\n",
        "\n",
        "Operator  | Function                      | Example          | Result |\n",
        "----------|-------------------------------|------------------|--------|\n",
        "and       | both expressions must be true | 5 > 2 and 5 < 8  |  True  |\n",
        "or        | one or both expressions must be true | 5 == 2 or 5 != 8 |  True  |\n",
        "not       | returns the opposite value of a boolean             | not True    |  False  |"
      ],
      "metadata": {
        "id": "GA-CT32PUjpq"
      }
    },
    {
      "cell_type": "markdown",
      "source": [
        "These three operators allow us to connect several Boolean expressions to make more complex expressions. The `and` and `or` operators in particular allow us to connect multiple expressions to make a more specific check of our data. The `not` operator is slightly different and somewhat confusing in that it returns the opposite value of a boolean. \n",
        "\n",
        "The `and` operator returns `True` if the expressions on both sides of the `and` operator return `True`. Let's look at an example below:"
      ],
      "metadata": {
        "id": "pzA4yz1AJbcz"
      }
    },
    {
      "cell_type": "code",
      "source": [
        "#The below code uses the and operator to check the values of the given variables\n",
        "#Try changing the comparison operators so the expression returns False\n",
        "hair_colour = 'Brown'\n",
        "age = 23\n",
        "\n",
        "hair_colour == 'Brown' and age > 20"
      ],
      "metadata": {
        "id": "2eFFvB4eIZYO"
      },
      "execution_count": null,
      "outputs": []
    },
    {
      "cell_type": "code",
      "source": [
        "#The below code uses the and operator to check the values of the given variables\n",
        "#Try changing the comparison operators so the expression returns True\n",
        "hair_colour = 'Brown'\n",
        "age = 23\n",
        "\n",
        "hair_colour != 'Brown' and age == 20"
      ],
      "metadata": {
        "id": "F8j7pSyXMd9-"
      },
      "execution_count": null,
      "outputs": []
    },
    {
      "cell_type": "markdown",
      "source": [
        "The `or` operator only needs one of the expressions either side to be `True` for the expression to return `True`. Let's look at some examples below:"
      ],
      "metadata": {
        "id": "boDf0GIXMjSt"
      }
    },
    {
      "cell_type": "code",
      "source": [
        "#The below code uses the or operator to check the values of the given variables\n",
        "#Try changing the comparison operators so the expression returns False\n",
        "hair_colour = 'Blonde'\n",
        "age = 25\n",
        "\n",
        "hair_colour == 'Brown' or age > 20"
      ],
      "metadata": {
        "id": "BSH9MZLZLsn6"
      },
      "execution_count": null,
      "outputs": []
    },
    {
      "cell_type": "code",
      "source": [
        "#The below code uses the or operator to check the values of the given variables\n",
        "#Try changing the comparison operators so the expression returns True\n",
        "hair_colour = 'Blonde'\n",
        "age = 19\n",
        "\n",
        "hair_colour == 'Brown' or age > 20"
      ],
      "metadata": {
        "id": "DSC1htatPprb"
      },
      "execution_count": null,
      "outputs": []
    },
    {
      "cell_type": "markdown",
      "source": [
        "We mentioned above that the `not` operator is slightly different  in that it returns the opposite value of a boolean. Let's explore this below:"
      ],
      "metadata": {
        "id": "e2AdprrlP18v"
      }
    },
    {
      "cell_type": "code",
      "source": [
        "#The code below returns the opposite value of the boolean expression.\n",
        "#Try changing the value of age so that the code returns True.\n",
        "age = 39\n",
        "\n",
        "not age == 39"
      ],
      "metadata": {
        "id": "kHnQiFIaQaOm"
      },
      "execution_count": null,
      "outputs": []
    },
    {
      "cell_type": "markdown",
      "source": [
        "The example above has an expression checking if the value of the age variable is 39. This condition is `True` but the `not` operator returns the opposite value of `False`. You might be thinking \"Why would I want to use this?\". Using the `not` operator can be useful as we learn more Python logic if we want to avoid specific data in our code."
      ],
      "metadata": {
        "id": "QYJKcdvlSqPy"
      }
    },
    {
      "cell_type": "markdown",
      "metadata": {
        "id": "PFhaYFm6Ufpk"
      },
      "source": [
        "***"
      ]
    },
    {
      "cell_type": "markdown",
      "metadata": {
        "id": "nzlj_rWjuhPX"
      },
      "source": [
        "## **Checking Data Type**"
      ]
    },
    {
      "cell_type": "markdown",
      "source": [
        "Up to now we have looked at several data types in Python; integer, float, string and now boolean (`bool`). As we write more code we may be using several variables and it can be easy to lose track of what is what. Luckily Python has a built-in function that allows us to check the data type of any object, the `type()` function. Let's look at this function below:"
      ],
      "metadata": {
        "id": "bSn-u8kFKUqI"
      }
    },
    {
      "cell_type": "code",
      "source": [
        "#The below code checks the type of the greeting variable\n",
        "greeting = 'Hello World'\n",
        "type(greeting)"
      ],
      "metadata": {
        "id": "f_shuvN3fP7y"
      },
      "execution_count": null,
      "outputs": []
    },
    {
      "cell_type": "markdown",
      "source": [
        "The `type()` function takes an item as an argument and returns the data type of that item. Above we can see that the data type of the greeting variable is `str` which is short for string. Let's look at a few other examples:"
      ],
      "metadata": {
        "id": "VRgEexQ8hjqo"
      }
    },
    {
      "cell_type": "code",
      "source": [
        ""
      ],
      "metadata": {
        "id": "fy-Uvr3OISxi"
      },
      "execution_count": null,
      "outputs": []
    },
    {
      "cell_type": "code",
      "source": [
        "#The below code checks the type of the age variable\n",
        "age = 25\n",
        "type(age)"
      ],
      "metadata": {
        "id": "p9RetE5tiZVa"
      },
      "execution_count": null,
      "outputs": []
    },
    {
      "cell_type": "code",
      "source": [
        "#The below code checks the type of the int variable\n",
        "pi = 3.14159265359 \n",
        "type(pi)"
      ],
      "metadata": {
        "id": "G699xfIDolo6"
      },
      "execution_count": null,
      "outputs": []
    },
    {
      "cell_type": "code",
      "source": [
        "#The below code checks the type of the age_check variable\n",
        "age = 25\n",
        "age_check = age > 18\n",
        "type(age_check)"
      ],
      "metadata": {
        "id": "2IoBuK_Go5-e"
      },
      "execution_count": null,
      "outputs": []
    },
    {
      "cell_type": "markdown",
      "source": [
        "We can see above that the `type` function identifies each of the data types we have become familiar with. The function is not limited to simple data types but can identify any object, can you work out what is happening in the code below:"
      ],
      "metadata": {
        "id": "_GMoFz2vpJOj"
      }
    },
    {
      "cell_type": "code",
      "source": [
        "type(print)"
      ],
      "metadata": {
        "id": "J1hXZ-o2pOHx"
      },
      "execution_count": null,
      "outputs": []
    },
    {
      "cell_type": "markdown",
      "source": [
        "The `type()` function has identified the `print()` function as a built-in function. Using the `type()` function to check type can be really useful to keep track of data or check data in our code."
      ],
      "metadata": {
        "id": "VclluCTAp_9B"
      }
    },
    {
      "cell_type": "markdown",
      "metadata": {
        "id": "QWusmwFiRclf"
      },
      "source": [
        "***"
      ]
    },
    {
      "cell_type": "markdown",
      "metadata": {
        "id": "gUkZ7ELKKcna"
      },
      "source": [
        "## **Transforming Data Type**"
      ]
    },
    {
      "cell_type": "markdown",
      "source": [
        "We have learned that we can check what type our data is but what if we wanted to change our data from one type to another? What if we had a number as a string value in our code but we really wanted to use it in a calculation? Python would not be able to conduct mathematical calculations with string data but it does have ways in which we can transform data type."
      ],
      "metadata": {
        "id": "Q9wxa4hZKcna"
      }
    },
    {
      "cell_type": "markdown",
      "source": [
        "First we have the `int()` function. This function will convert a given argument to an integer, the argument must be a float or the string version of an integer. If a float is used any numbers after the decimal will be removed with no rounding. Let's look at an example:"
      ],
      "metadata": {
        "id": "dER1n18-TJlp"
      }
    },
    {
      "cell_type": "code",
      "source": [
        "#The below code converts the string '2022' to an integer.\n",
        "int('2022')"
      ],
      "metadata": {
        "id": "7S7Ee8TLMCgJ"
      },
      "execution_count": null,
      "outputs": []
    },
    {
      "cell_type": "code",
      "source": [
        "#The below code converts the float '25.8' to an integer.\n",
        "int(25.8)"
      ],
      "metadata": {
        "id": "RhHi8BzgcooE"
      },
      "execution_count": null,
      "outputs": []
    },
    {
      "cell_type": "markdown",
      "source": [
        "The `str()` function converts a given argument to a string, the argument is a bit more flexible here as most data can be converted to a string value. Let's look at an example:"
      ],
      "metadata": {
        "id": "9prYgY5ubZgB"
      }
    },
    {
      "cell_type": "code",
      "source": [
        "#The below code converts the integer 1998 to a string.\n",
        "str(1998)"
      ],
      "metadata": {
        "id": "A_CAjHBmMZEP"
      },
      "execution_count": null,
      "outputs": []
    },
    {
      "cell_type": "markdown",
      "source": [
        "The `float()` function converts a given argument to a float number, the argument is similar to that of the `int()` function in that the argument must be an integer or the string version of a float or integer. Let's look at an example:"
      ],
      "metadata": {
        "id": "Y181f7vWcJ-h"
      }
    },
    {
      "cell_type": "code",
      "source": [
        "#The below code converts the integer 10 to a float.\n",
        "float(10)"
      ],
      "metadata": {
        "id": "F8YfVJ3UMR9d"
      },
      "execution_count": null,
      "outputs": []
    },
    {
      "cell_type": "code",
      "source": [
        "#The below code converts the integer 10 to a float.\n",
        "float('10')"
      ],
      "metadata": {
        "id": "0AkvdiMQc62k"
      },
      "execution_count": null,
      "outputs": []
    },
    {
      "cell_type": "markdown",
      "source": [
        "The `bool()` function converts a given argument to a boolean `True` or `False`. It is important to remember that every item in Python has a bollean value as discussed earlier. An expression using operators can also be used as an argument. Let's look at an example:"
      ],
      "metadata": {
        "id": "UNKMLUj9dK5C"
      }
    },
    {
      "cell_type": "code",
      "source": [
        "#The below code converts the empty string to a boolean value.\n",
        "#Remember empty strings have a value of boolean False.\n",
        "bool('')"
      ],
      "metadata": {
        "id": "PONLR60RSEbs"
      },
      "execution_count": null,
      "outputs": []
    },
    {
      "cell_type": "code",
      "source": [
        "#The below code converts the expression to a boolean value.\n",
        "bool(12 == 3*4)"
      ],
      "metadata": {
        "id": "aQj8mDTvdpUc"
      },
      "execution_count": null,
      "outputs": []
    },
    {
      "cell_type": "markdown",
      "metadata": {
        "id": "MBfleT9ZKcnb"
      },
      "source": [
        "***"
      ]
    },
    {
      "cell_type": "markdown",
      "metadata": {
        "id": "cDj5sd1jvuEX"
      },
      "source": [
        "## **Test What You've Learned**"
      ]
    },
    {
      "cell_type": "markdown",
      "metadata": {
        "id": "OkyYmKvMv2OP"
      },
      "source": [
        "We have covered some important aspects of the Boolean data type in this tutorial as well as learning how to check and transform data types. Now try to test what you have learned by completing the challenges below.\n",
        "\n",
        "Someone once said \"There's no such thing as bad weather, just bad clothing\". We always seem to contend with the weather here in the UK. Below are a few boolean challenges to make sure we are dressed for the occasion. First a quick example:"
      ]
    },
    {
      "cell_type": "code",
      "source": [
        "#It has started raining and I want to know if I have an umbrella using the umbrella variable.\n",
        "umbrella = False\n",
        "\n",
        "#I can check if I have an umbrella (if the value is True) by using Boolean comparison operators as seen below.\n",
        "umbrella == True"
      ],
      "metadata": {
        "id": "gv_Hg8eHi3I-"
      },
      "execution_count": null,
      "outputs": []
    },
    {
      "cell_type": "markdown",
      "source": [
        "The example above checks for an umbrella using the umbrella variable by checking if the value of umbrella is `True`, The check returns `False` because the umbrella variable value is not `True`, we do not have an umbrella. Now try yourself with the following challenges:"
      ],
      "metadata": {
        "id": "M3Tz_yubkMpN"
      }
    },
    {
      "cell_type": "code",
      "metadata": {
        "id": "8H2QqpHuxvpQ"
      },
      "source": [
        "#It's a bit wet underfoot and we need our boots on.\n",
        "#Write an expression using a comparison operator to check if we have our boots on (the boots variable is True).\n",
        "boots = True\n"
      ],
      "execution_count": null,
      "outputs": []
    },
    {
      "cell_type": "code",
      "source": [
        "#A light rain has begun and we need to put our coat on as well as our boots.\n",
        "#Write an expression using comparison and boolean operators to check if we have boots and our coat on.\n",
        "boots = True\n",
        "coat = True\n"
      ],
      "metadata": {
        "id": "5YvejdCy6zN4"
      },
      "execution_count": null,
      "outputs": []
    },
    {
      "cell_type": "code",
      "source": [
        "#It's actually quite cold outside, we have a hat and a pair of gloves but either will suffice.\n",
        "#Write an expression using comparison and boolean operators to check if we have either gloves or a hat on.\n",
        "hat = False\n",
        "gloves = True\n"
      ],
      "metadata": {
        "id": "2VmH9FqY72y5"
      },
      "execution_count": null,
      "outputs": []
    },
    {
      "cell_type": "code",
      "source": [
        "#Just like that the sun comes out and it's a scorcher, don't you just love the UK?\n",
        "#Write an expression using comparison and boolean operators to check if our coat and gloves are off and our sun lotion is at least factor 30.\n",
        "sun_lotion = 30\n",
        "coat = False\n",
        "gloves = False"
      ],
      "metadata": {
        "id": "yMEcwaQo9EkK"
      },
      "execution_count": null,
      "outputs": []
    },
    {
      "cell_type": "markdown",
      "metadata": {
        "id": "kzBQRgYVRgCR"
      },
      "source": [
        "***"
      ]
    },
    {
      "cell_type": "markdown",
      "metadata": {
        "id": "Vlpym5M-R-w2"
      },
      "source": [
        "Ah the good old days of going to the local Blockbuster and renting a VHS or DVD. It was a bit like Netflix only you stood around in person trying to decide what to watch. All that choice. You are working at Blockbuster and want to write a program that describes aspects of the films you hold. The data is a bit muddled and requires you to transform it for use in your code:"
      ]
    },
    {
      "cell_type": "code",
      "metadata": {
        "id": "rdgaEmmzTZvu"
      },
      "source": [
        "#Write code to convert the film year to an integer and deduct this value from the present year.\n",
        "#Then use a print statement to output a sentence stating the film's age.\n",
        "#You can create your own additional variables to complete this task.\n",
        "the_godfather_release = '1972'\n"
      ],
      "execution_count": null,
      "outputs": []
    },
    {
      "cell_type": "code",
      "metadata": {
        "id": "S7_hgls_B1q3"
      },
      "source": [
        "#Write code to convert the film running time to a string.\n",
        "#Then use a print statement to output a sentence stating the film's length.\n",
        "#Bonus points for writing a print statement to output a sentence stating the film's length in hours and minutes. \n",
        "#You can create your own additional variables to complete this task.\n",
        "alien_length_mins = 117\n"
      ],
      "execution_count": null,
      "outputs": []
    },
    {
      "cell_type": "code",
      "metadata": {
        "id": "xEmhJ8RfEIAr"
      },
      "source": [
        "#Is legally blonde longer than alien?\n",
        "#Use any Python skills you have learned so far to compare the running time of Legally Blonde with Alien.\n",
        "#Compare the two using comparison operators and output a sentence with the result within a print statement.\n",
        "#You can create your own additional variables to complete this task.\n",
        "legally_blonde_length = '1h 36m'\n"
      ],
      "execution_count": null,
      "outputs": []
    },
    {
      "cell_type": "markdown",
      "metadata": {
        "id": "vKoZDktRRiVx"
      },
      "source": [
        "***"
      ]
    },
    {
      "cell_type": "markdown",
      "metadata": {
        "id": "Alb6Y7VVWDrQ"
      },
      "source": [
        "##**Summary**\n",
        "\n",
        "We've learned about Boolean data types, how we can use them in Python and we've also covered checking data type and transforming data type. We've covered:\n",
        "\n",
        "1.   What are Boolean Data Types.\n",
        "2.   Comparison Operators.\n",
        "3.   Boolean/Logical Operators\n",
        "4.   Checking Data Type.\n",
        "5.   Transforming Data Type.\n",
        "\n",
        "This tutorial concludes our introduction to simple data types and you have learned a lot up to now. Boolean data types are an extremely important component of the logic we use in our codes. We will often find reasons to compare data to make decisions. This leads us on nicely to what you will learn next."
      ]
    },
    {
      "cell_type": "markdown",
      "metadata": {
        "id": "xJ2r6Qu1R0BG"
      },
      "source": [
        "***"
      ]
    },
    {
      "cell_type": "markdown",
      "metadata": {
        "id": "-ZsjgYV_5yqG"
      },
      "source": [
        "#**What you'll learn in the next tutorial?**\n",
        "\n",
        "Using what we have learned with Booolean values and comparison operators we will move on to learning some actual Python logic. This is where the really fun stuff starts to happen. We will look at conditional statements (`if`, `else`, `elif`) and how we set different conditions within our code. When these conditions are met we may want to conduct different tasks and we will learn all about this in the next tutorial.\n",
        "\n",
        "From all of us at the NCGI Coding Club admin team,\n",
        "\n",
        "Happy Coding!\n"
      ]
    },
    {
      "cell_type": "markdown",
      "metadata": {
        "id": "e4-6NoKqR1M-"
      },
      "source": [
        "***"
      ]
    },
    {
      "cell_type": "markdown",
      "metadata": {
        "id": "UYEa01aeqY1O"
      },
      "source": [
        "#**Definitions and Terms**\n",
        "\n",
        "**<font color=\"red\">conditions - </font>** <font color=\"red\">Python conditions are used for decision making operations e.g. is a value greater than a given number?</font>\n",
        "\n",
        "**<font color=\"red\">expression - </font>**<font color=\"red\">An expression is an instruction that combines values and operators and evaluates down to a single value.</font>\n"
      ]
    }
  ]
}