{
  "nbformat": 4,
  "nbformat_minor": 0,
  "metadata": {
    "colab": {
      "name": "Python_07_Lists.ipynb",
      "provenance": [],
      "collapsed_sections": [],
      "include_colab_link": true
    },
    "kernelspec": {
      "name": "python3",
      "display_name": "Python 3"
    },
    "language_info": {
      "name": "python"
    }
  },
  "cells": [
    {
      "cell_type": "markdown",
      "metadata": {
        "id": "view-in-github",
        "colab_type": "text"
      },
      "source": [
        "<a href=\"https://colab.research.google.com/github/DrDrae/Complete-Python-3-Bootcamp/blob/master/Python_07_Lists.ipynb\" target=\"_parent\"><img src=\"https://colab.research.google.com/assets/colab-badge.svg\" alt=\"Open In Colab\"/></a>"
      ]
    },
    {
      "cell_type": "markdown",
      "metadata": {
        "id": "gpnJb0pAJc5k"
      },
      "source": [
        "\n",
        "<img src=\"https://user-images.githubusercontent.com/91729702/148638441-cfe65bc3-9011-4e1a-861a-9bc780e76f8a.jpg\" alt=\"Wyton Station Logo\" width=\"100%\">\n"
      ]
    },
    {
      "cell_type": "markdown",
      "metadata": {
        "id": "73hkGlBmkii9"
      },
      "source": [
        "\n",
        "**<font color=\"grey\" size=5>Before you get started, don't forget to click \"File\" then \"Save a Copy in GitHub\" to save a copy of this tutorial into your GitHub repository. From the GitHub page that opens click the \"Open in Colab\" button to open your saved tutorial. Save any progress you make by clicking \"File\" then \"Save a Copy in GitHub\" again.</font>**"
      ]
    },
    {
      "cell_type": "markdown",
      "metadata": {
        "id": "zuYrYd78TSYj"
      },
      "source": [
        "**Note:**  If you see a word or phrase highlighted like this **<font color=\"red\">example</font>** you can find a definition in the **Definitions and Terms** section, located at the end of the tutorial."
      ]
    },
    {
      "cell_type": "markdown",
      "metadata": {
        "id": "4ztyeu1VTPrl"
      },
      "source": [
        "***"
      ]
    },
    {
      "cell_type": "markdown",
      "metadata": {
        "id": "Cjke0xC5JPc1"
      },
      "source": [
        "#**Introduction**\n"
      ]
    },
    {
      "cell_type": "markdown",
      "metadata": {
        "id": "W1KVO2n4mmar"
      },
      "source": [
        "In the first four tutorials we looked at simple data types (string, integer, float and Boolean). Python also has more complex data types called **<font color=\"red\">data structures</font>**. Data structures are used to store multiple values and we will begin to look at these throughout this tutorial.\n",
        "\n",
        "This tutorial we will focus on the list data structure:\n",
        "\n",
        "**Data structures:**\n",
        "\n",
        "*   **List - Changeable colletion of values.**\n",
        "*   <font color=\"grey\">Tuple - Unchangeable colletion of values.</font>\n",
        "*   <font color=\"grey\">Set - Unchangeable collection of unique values.</font>\n",
        "*   <font color=\"grey\">Dictionary - Changeable collection of key:value pairs.</font>\n",
        "\n",
        "Data structures are incredibly useful to store our data values within our code and understanding the different properties of each structure will help us decide which to use and when.\n",
        "\n",
        "#####**What you'll learn in this tutorial?**\n",
        "\n",
        "1.   What are Lists?.\n",
        "2.   Why Use Lists?.\n",
        "3.   Creating Lists.\n",
        "4.   Accessing Data from Lists.\n",
        "5.   Editing Lists.\n",
        "6.   List Methods.\n",
        "7.   Nested Lists.\n",
        "\n",
        "\n",
        "At the end of the tutorial you will have the opportunity to test what you have learned."
      ]
    },
    {
      "cell_type": "markdown",
      "metadata": {
        "id": "e5rj5EfgRLZW"
      },
      "source": [
        "***"
      ]
    },
    {
      "cell_type": "markdown",
      "metadata": {
        "id": "HH_qTlPmyo0U"
      },
      "source": [
        "#**Lists in Python**\n"
      ]
    },
    {
      "cell_type": "markdown",
      "metadata": {
        "id": "9GxbKjPWl9_D"
      },
      "source": [
        "##**What are Lists?**\n",
        "A list in Python is a sequence of items seperated by commas (`,`) and surrounded by square brackets (`[]`). The items a list can contain can be strings, integers or many other data types. A list can even contain another list, but we'll run before we can walk with that one. Commonly a list will hold items of the same data type. Lists are ordered, this means that the order of items in a list will not change. If a new item was to be added to a list it would be added to the end unless an index location is specified. Finally lists are **<font color=\"red\">mutable</font>** (changeable), meaning that after a list is created we can add or remove items and even change the values of the data stored in it. Lets have a look at some examples of what a list looks like:"
      ]
    },
    {
      "cell_type": "code",
      "source": [
        "#The list below contains integer values\n",
        "[10, 20, 30, 40, 50, 50]"
      ],
      "metadata": {
        "id": "GlGRv7fVJTcB"
      },
      "execution_count": null,
      "outputs": []
    },
    {
      "cell_type": "markdown",
      "source": [
        "Notice how the above list has a duplicated value of 50? Lists allow duplicated values, how very accommodating."
      ],
      "metadata": {
        "id": "B0ln7-cfOAoy"
      }
    },
    {
      "cell_type": "code",
      "source": [
        "#This list contains multiple data types\n",
        "[10, 'Twenty', 30.0, False]"
      ],
      "metadata": {
        "id": "j8j9H_szNAuK"
      },
      "execution_count": null,
      "outputs": []
    },
    {
      "cell_type": "markdown",
      "source": [
        "Lists also allow a collection of different data types as shown above. These aspects make lists very versatile."
      ],
      "metadata": {
        "id": "7lUixQjLOp4R"
      }
    },
    {
      "cell_type": "markdown",
      "metadata": {
        "id": "rHeHbGa4RP-N"
      },
      "source": [
        "***"
      ]
    },
    {
      "cell_type": "markdown",
      "metadata": {
        "id": "txYyaNw5lfGy"
      },
      "source": [
        "## **Why Use Lists?**"
      ]
    },
    {
      "cell_type": "markdown",
      "source": [
        "As already mentioned data structures are a great way of storing our data values in Python. Lists are a versatile approach to storing data, allowing multiple values and combinations of data types that can be changed after a list is created. Imagine you have a list of emails:"
      ],
      "metadata": {
        "id": "QgVvW23lJrmE"
      }
    },
    {
      "cell_type": "code",
      "source": [
        "email_list = ['monty@pmail.co.uk', 'adam@pmail.co.uk','hattie@pmail.co.uk','james@pmail.co.uk']\n",
        "print(email_list)"
      ],
      "metadata": {
        "id": "FcCyOe_iSEv8"
      },
      "execution_count": null,
      "outputs": []
    },
    {
      "cell_type": "markdown",
      "source": [
        "If I wanted to keep a distribution list up to date then being able to add, remove or change the e-mail adresses in the list would be really helpful. We'll look closer at how we create and interact with lists as we go through this tutorial."
      ],
      "metadata": {
        "id": "mOb715JCShaq"
      }
    },
    {
      "cell_type": "markdown",
      "source": [
        "***"
      ],
      "metadata": {
        "id": "ws3YP-gBJuUY"
      }
    },
    {
      "cell_type": "markdown",
      "source": [
        "## **Creating Lists**"
      ],
      "metadata": {
        "id": "sksBVa9DJ7Oj"
      }
    },
    {
      "cell_type": "markdown",
      "source": [
        "The quickest and easiest way to create a list is to assign it to a variable:"
      ],
      "metadata": {
        "id": "VlV5ErS8HlEh"
      }
    },
    {
      "cell_type": "code",
      "source": [
        "my_list = []\n",
        "\n",
        "print(my_list)"
      ],
      "metadata": {
        "id": "yiovwdfMHlSC"
      },
      "execution_count": null,
      "outputs": []
    },
    {
      "cell_type": "markdown",
      "source": [
        "In the code above we have created an empty list. If we know the values we want to store in our list we can populate it at the time of creation:"
      ],
      "metadata": {
        "id": "jkzauUMBdqo-"
      }
    },
    {
      "cell_type": "code",
      "source": [
        "my_list = ['Hattie', 'James', 'Adam']\n",
        "\n",
        "print(my_list)"
      ],
      "metadata": {
        "id": "2X1N_0y9psbX"
      },
      "execution_count": null,
      "outputs": []
    },
    {
      "cell_type": "markdown",
      "source": [
        "Another way to create a list in Python is to use the `list()` function:"
      ],
      "metadata": {
        "id": "hWm5gVWIh9E-"
      }
    },
    {
      "cell_type": "code",
      "source": [
        "my_list = list()\n",
        "\n",
        "print(my_list)"
      ],
      "metadata": {
        "id": "xkAOfIfqx1NP"
      },
      "execution_count": null,
      "outputs": []
    },
    {
      "cell_type": "markdown",
      "source": [
        "The `list()` function can also take an iterable as an argument that is used to populate the list. An iterable is any Python object that is iterable such as a string, tuple, dictionary or even another list. Let's see what happens if we use the `list()` function on a string:"
      ],
      "metadata": {
        "id": "9whAzTjByvNH"
      }
    },
    {
      "cell_type": "code",
      "source": [
        "my_list = list('Hello World')\n",
        "\n",
        "print(my_list)"
      ],
      "metadata": {
        "id": "C_CCmx2fz3qg"
      },
      "execution_count": null,
      "outputs": []
    },
    {
      "cell_type": "markdown",
      "source": [
        "The `list()` function has created a list of all the individual characters of the string. This happens because strings are iterable meaning they characters can be looped over one at a time. Not all data types are iterable, for example integers and floats are not iterable."
      ],
      "metadata": {
        "id": "V13WZQmX0ERg"
      }
    },
    {
      "cell_type": "markdown",
      "metadata": {
        "id": "1hZqrhG6RTqs"
      },
      "source": [
        "***"
      ]
    },
    {
      "cell_type": "markdown",
      "source": [
        "## **Accessing Data from Lists**"
      ],
      "metadata": {
        "id": "1ZDD0xhbT3pk"
      }
    },
    {
      "cell_type": "markdown",
      "source": [
        "Using lists to store data is all well and good, but what use is a cupboard with no door? If we are going to store values we need a way to retrieve them. Accessing data from lists can be done in a way that you will be familiar with already, indexing and slicing. We covered indexing and slicing when we learned about strings and the process is very much the same. There are also a few useful ways of assessing the contents of a list before we access them."
      ],
      "metadata": {
        "id": "JZfitflfT3pl"
      }
    },
    {
      "cell_type": "markdown",
      "source": [
        "### **Counting List Contents** ###"
      ],
      "metadata": {
        "id": "kRwOOCaNyUw_"
      }
    },
    {
      "cell_type": "markdown",
      "source": [
        "Before we start accessing data from our lists it can be useful and sometimes neccessary to check the length of a list. We can use the same `len()` function we have seen before to do this:"
      ],
      "metadata": {
        "id": "TwSCqn0jy3qu"
      }
    },
    {
      "cell_type": "code",
      "source": [
        "workdays = ['Mon','Tue','Wed','Thu','Fri']\n",
        "\n",
        "len(workdays)"
      ],
      "metadata": {
        "id": "_hpVmVUEzPQW"
      },
      "execution_count": null,
      "outputs": []
    },
    {
      "cell_type": "markdown",
      "source": [
        "The `len()` function above returns how many items the list contains as an integer.\n",
        "\n",
        "We can also use a list method to count the number of times an item appears in a list. The `count()` method returns the number of ocurrances of a given item that are present in a list:"
      ],
      "metadata": {
        "id": "zM2VSdRx0HW-"
      }
    },
    {
      "cell_type": "code",
      "source": [
        "cities = ['Cambridge','York','Bath','Liverpool','Manchester','Liverpool','York','London','York']\n",
        "\n",
        "cities.count('York')"
      ],
      "metadata": {
        "id": "XdiZIyIH0bnP"
      },
      "execution_count": null,
      "outputs": []
    },
    {
      "cell_type": "markdown",
      "source": [
        "In the example above we can see that the `.count()` method confirms we have three occurrances of the city \"York\"."
      ],
      "metadata": {
        "id": "9OtWFQva9jeD"
      }
    },
    {
      "cell_type": "markdown",
      "source": [
        "If we wanted to check if an item was present in a list we can use the keyword `in`. Using `in` returns a boolean value and so can be used in conjunction with conditional statements:"
      ],
      "metadata": {
        "id": "FZNT5yRGFvAn"
      }
    },
    {
      "cell_type": "markdown",
      "source": [
        "### **Check if an Item is Present** ###"
      ],
      "metadata": {
        "id": "h7zuLHGKHHuW"
      }
    },
    {
      "cell_type": "code",
      "source": [
        "cities = ['Cambridge','York','Bath','Liverpool','Manchester','London']\n",
        "\n",
        "'Liverpool' in cities"
      ],
      "metadata": {
        "id": "TyHj3DEsGFAH"
      },
      "execution_count": null,
      "outputs": []
    },
    {
      "cell_type": "code",
      "source": [
        "if 'Liverpool' in cities:\n",
        "    print('Liverpool is in the list')\n",
        "else:\n",
        "    print('Liverpool is not in the list')"
      ],
      "metadata": {
        "id": "E96OJAmXGZEX"
      },
      "execution_count": null,
      "outputs": []
    },
    {
      "cell_type": "markdown",
      "source": [
        "### **Indexing List Items** ###"
      ],
      "metadata": {
        "id": "OLrWF74m2RH4"
      }
    },
    {
      "cell_type": "markdown",
      "source": [
        "Indexing, as you may remember, is a way of accessing an item by using it's numerical index. Python is a zero-based language so the first item's index is 0. You can index in a forward direction (0, 1, 2 etc.) or in a backwards direction (-1, -2, -3 etc.). The image below helps to visualise how indexing works:\n",
        "\n",
        "<img src=\"https://user-images.githubusercontent.com/91729702/149669010-3cf0f6bb-9b2b-4bbc-84bc-5c8158ed047d.png\" alt=\"Wyton Station Logo\" width=\"30%\">\n",
        "\n",
        "The image above uses a list of the days of the working week (apparantly we don't index on weekends). Lets use this example in our code:"
      ],
      "metadata": {
        "id": "yihOf9Zq2ZrO"
      }
    },
    {
      "cell_type": "code",
      "source": [
        "#The code below accesses the 'Wed' value from the list below.\n",
        "workdays = ['Mon','Tue','Wed','Thu','Fri']\n",
        "print(workdays[2])"
      ],
      "metadata": {
        "id": "zElsyPU_T3pm"
      },
      "execution_count": null,
      "outputs": []
    },
    {
      "cell_type": "markdown",
      "source": [
        "The syntax is the same as string indexing. The list is immediately followed by a pair of square brackets. Inside the square brackets we place the index of the value we want to retrieve."
      ],
      "metadata": {
        "id": "TkWL2ZXuz9Ly"
      }
    },
    {
      "cell_type": "code",
      "source": [
        "#Using the workdays list, access the 'Fri' value using forwards indexing.\n"
      ],
      "metadata": {
        "id": "B6ImbYiTzEJb"
      },
      "execution_count": null,
      "outputs": []
    },
    {
      "cell_type": "code",
      "source": [
        "#Using the workdays list, access the 'Tue' value using backwards indexing.\n"
      ],
      "metadata": {
        "id": "gxxkvPYTzXgX"
      },
      "execution_count": null,
      "outputs": []
    },
    {
      "cell_type": "markdown",
      "source": [
        "We can store these retrieved values as variables like in the example below:"
      ],
      "metadata": {
        "id": "lmLpxrwD0YAi"
      }
    },
    {
      "cell_type": "code",
      "source": [
        "workdays = ['Mon','Tue','Wed','Thu','Fri']\n",
        "day = workdays[2]\n",
        "\n",
        "print(day)"
      ],
      "metadata": {
        "id": "zE1ZS1wz1vwc"
      },
      "execution_count": null,
      "outputs": []
    },
    {
      "cell_type": "markdown",
      "source": [
        "It's important to know that when we use indexing we are only ever accessing the data in the list, the data is never removed from the list even if assigned to a variable."
      ],
      "metadata": {
        "id": "osBhRzg42U-y"
      }
    },
    {
      "cell_type": "markdown",
      "source": [
        "### **Slicing List Items** ###"
      ],
      "metadata": {
        "id": "UVSAtXR52yyk"
      }
    },
    {
      "cell_type": "markdown",
      "source": [
        "Slicing, as you may remember, is a way of accessing a range of items by using a starting index, an optional stop index and an optional step. As a quick reminder here is how the syntax of slicing is structured:\n",
        "\n",
        "    iterable[start index : stop index : step]\n",
        "\n",
        "The start index is the first item retrieved in the slice, the stop item is the first item not be included in the slice. The step retrieves every nth item of the specified range. Let's see an example using the same example list: "
      ],
      "metadata": {
        "id": "TEcbgDEO2yyk"
      }
    },
    {
      "cell_type": "code",
      "source": [
        "workdays = ['Mon','Tue','Wed','Thu','Fri']\n",
        "days = workdays[0:2]\n",
        "\n",
        "print(days)"
      ],
      "metadata": {
        "id": "OLDyrsIZ2yyk"
      },
      "execution_count": null,
      "outputs": []
    },
    {
      "cell_type": "markdown",
      "source": [
        "The code above retrieves a slice of the items from the list. Notice that when we slice a list the output is a list also.\n",
        "\n",
        "The slice retrieves the first ('Mon') and second ('Tue') items at index 0 and 1. The slice does not retrieve any further items because we have told it to stop at index 2, the item ('Wed') of the index we use to stop the slice is not retrieved."
      ],
      "metadata": {
        "id": "GVfpcGBp1dk5"
      }
    },
    {
      "cell_type": "code",
      "source": [
        "#Using the workdays list, retrieve 'Mon' and every other day after.\n"
      ],
      "metadata": {
        "id": "B1Ce3uRt2XZB"
      },
      "execution_count": null,
      "outputs": []
    },
    {
      "cell_type": "code",
      "source": [
        "#Using the workdays list, retrieve 'Fri' and 'Wed' using reverse slicing.\n"
      ],
      "metadata": {
        "id": "6dlunuV72Xmf"
      },
      "execution_count": null,
      "outputs": []
    },
    {
      "cell_type": "markdown",
      "metadata": {
        "id": "CTRCorE7T3pm"
      },
      "source": [
        "***"
      ]
    },
    {
      "cell_type": "markdown",
      "source": [
        "## **Editing Lists**"
      ],
      "metadata": {
        "id": "bMe5lTlvTwMC"
      }
    },
    {
      "cell_type": "markdown",
      "source": [
        "We've established already that lists are pretty useful and we can store multiple items in one tidy data structure. Like a list of friends:"
      ],
      "metadata": {
        "id": "iA_Sz6RVTwMJ"
      }
    },
    {
      "cell_type": "code",
      "source": [
        "friends = ['Joey','Monica','Chandler','Rachael','Ross','Phoebe']\n",
        "\n",
        "print(friends)"
      ],
      "metadata": {
        "id": "8m1mfOMTTwMJ"
      },
      "execution_count": null,
      "outputs": []
    },
    {
      "cell_type": "markdown",
      "source": [
        "What's that? Oh, we spelt your name wrong? It's 'Rachel'?\n",
        "\n",
        "Wow she's a bit of a diva! Still, how are we going to change it?\n",
        "\n",
        "Lists are mutable, meaning we can change them, so how do we update a value? Quite simply, we reassign a value to the relevant index of a list:"
      ],
      "metadata": {
        "id": "FvROxh116GMp"
      }
    },
    {
      "cell_type": "code",
      "source": [
        "friends[3] = 'Rachel'\n",
        "\n",
        "print(friends)"
      ],
      "metadata": {
        "id": "Qm10zn_G67EC"
      },
      "execution_count": null,
      "outputs": []
    },
    {
      "cell_type": "markdown",
      "source": [
        "Just like that, the updated name fits nicely in to the list...we didn't even have to shout 'PIVOT!' (Friends reference there).\n",
        "\n",
        "As you can see we have modified the original list and the original value has been replaced. It's important that you only modify values of a list in this way if you intend to lose the original value. Now it's your turn:"
      ],
      "metadata": {
        "id": "DQxfkwgb7H8p"
      }
    },
    {
      "cell_type": "code",
      "source": [
        "#Using the friends list, update 'Phoebe' to 'Pheebs'\n"
      ],
      "metadata": {
        "id": "CgyWFs2g8x8i"
      },
      "execution_count": null,
      "outputs": []
    },
    {
      "cell_type": "markdown",
      "source": [
        "There are more ways we can edit a list, several list methods allow us to add or remove items, we'll cover these in the next section."
      ],
      "metadata": {
        "id": "JAYPLx7w9Kia"
      }
    },
    {
      "cell_type": "markdown",
      "metadata": {
        "id": "vVsr9Pt_TwMJ"
      },
      "source": [
        "***"
      ]
    },
    {
      "cell_type": "markdown",
      "source": [
        "## **List Methods**"
      ],
      "metadata": {
        "id": "MIHMg-cLUWK2"
      }
    },
    {
      "cell_type": "markdown",
      "source": [
        "We learned about methods in the functions and methods tutorial. You may remember that methods are functions that belong to an object. We use dot notation to call a method, by typing a full stop immediately after the object then the method name. Parenthesis must be added immediately after the method name to accept any arguments and correctly run the method. In this case the object is a list and there are a host of methods available for us to use."
      ],
      "metadata": {
        "id": "FjurZH4pA30J"
      }
    },
    {
      "cell_type": "code",
      "source": [
        "#Let's create a new list to demonstrate some of the methods available.\n",
        "\n",
        "car_makes = ['BMW','Audi','VW','Porsche']\n",
        "print(car_makes)"
      ],
      "metadata": {
        "id": "jO0_VW5aJLcb"
      },
      "execution_count": null,
      "outputs": []
    },
    {
      "cell_type": "markdown",
      "source": [
        "### **Append**\n",
        "The `append()` method is used to add a new item to the end of a list:"
      ],
      "metadata": {
        "id": "m0E0_3NiUWK3"
      }
    },
    {
      "cell_type": "code",
      "source": [
        "#Be aware, running this cell multiple times will append multiple items to the list. We only need one for this example.\n",
        "#If you add too many by mistake run the previous cell again followed by this one.\n",
        "\n",
        "car_makes.append('Renault')\n",
        "print(car_makes)"
      ],
      "metadata": {
        "id": "A47WCC4nUWK3"
      },
      "execution_count": null,
      "outputs": []
    },
    {
      "cell_type": "markdown",
      "source": [
        "We can see in the example above that 'Renault' has been added to the end of the car_make list."
      ],
      "metadata": {
        "id": "pZYMcQ4rKky1"
      }
    },
    {
      "cell_type": "code",
      "source": [
        "#Try adding 'Peugeot' to the car_makes list, print the list to see the result.\n",
        "\n"
      ],
      "metadata": {
        "id": "vkeCTyFbKy1T"
      },
      "execution_count": null,
      "outputs": []
    },
    {
      "cell_type": "markdown",
      "source": [
        "### **Insert**\n",
        "The `insert()` method allows us to an add an item to a list at a specified position. By providing the item and the index as arguments we can add the item to that position. The item originally at that index and all other items after it are shifted to the right. The syntax of the `insert()` method is as below:\n",
        "\n",
        "    list.insert(index, item)"
      ],
      "metadata": {
        "id": "HXF9ZxlD-KAh"
      }
    },
    {
      "cell_type": "code",
      "source": [
        "car_makes.insert(4,'Jaguar')\n",
        "print(car_makes)"
      ],
      "metadata": {
        "id": "txw1qB_F-KAm"
      },
      "execution_count": null,
      "outputs": []
    },
    {
      "cell_type": "markdown",
      "source": [
        "We can see that 'Jaguar' has been added to the index where 'Renault' was. The items 'Renault' and 'Peugeot' have been shifted right. This method is preferred if you want to add items to a list whilst maintaining a specific order."
      ],
      "metadata": {
        "id": "wk8s9iJUN7HV"
      }
    },
    {
      "cell_type": "code",
      "source": [
        "#Try adding 'Aston Martin' to the car_makes list to sit between 'Jaguar' and 'Renault' , print the list to see the result.\n",
        "\n"
      ],
      "metadata": {
        "id": "Fpu2InjtOmAU"
      },
      "execution_count": null,
      "outputs": []
    },
    {
      "cell_type": "markdown",
      "source": [
        "### **Extend**\n",
        "The `extend()` method allows us to join the items of another iterable such as a list to the end of the current list. We can do this in the following way:"
      ],
      "metadata": {
        "id": "ptSMAZxz-Uvw"
      }
    },
    {
      "cell_type": "code",
      "source": [
        "us_car_makes = ['Ford', 'Dodge', 'Jeep']\n",
        "\n",
        "car_makes.extend(usa_car_makes)\n",
        "print(car_makes)"
      ],
      "metadata": {
        "id": "VA8Go7vI-Uvx"
      },
      "execution_count": null,
      "outputs": []
    },
    {
      "cell_type": "markdown",
      "source": [
        "The contents of the `us_car_makes` list has been added to the end of our original list. The contents of any iterable (list, tuple, string etc.) can be added to a list using the `extend()` method."
      ],
      "metadata": {
        "id": "-JgyVBsVQ0x8"
      }
    },
    {
      "cell_type": "code",
      "source": [
        "#Try adding the contents of the japanese_car_makes list to the car_makes_list , print the list to see the result.\n",
        "japanese_car_makes = ['Honda', 'Toyota', 'Mitsubishi']\n",
        "\n"
      ],
      "metadata": {
        "id": "N5okw2SvR05V"
      },
      "execution_count": null,
      "outputs": []
    },
    {
      "cell_type": "markdown",
      "source": [
        "### **Remove**\n",
        "Our list is looking really full now. We should start to think about letting some of these fine brands go. The `remove()` method removes the first occurence of an item in a list. We have to pass the item we wish to remove to the `remove()` method as an argument:"
      ],
      "metadata": {
        "id": "Jh_D2BBP-KaR"
      }
    },
    {
      "cell_type": "code",
      "source": [
        "car_makes.remove('Peugeot')\n",
        "print(car_makes)"
      ],
      "metadata": {
        "id": "rEwAL_Kb-KaR"
      },
      "execution_count": null,
      "outputs": []
    },
    {
      "cell_type": "markdown",
      "source": [
        "We can see that 'Peugeot' has successfully been removed from the list. It's gone, gone forever...maybe we should call it a 'Purge-oh'. It's important to note that items are lost once they are removed from a list."
      ],
      "metadata": {
        "id": "DASAY7y5TWO-"
      }
    },
    {
      "cell_type": "code",
      "source": [
        "#Try removing 'Renault' from the car_makes list, print the list to see the result.\n",
        "\n"
      ],
      "metadata": {
        "id": "E-RAD421T9od"
      },
      "execution_count": null,
      "outputs": []
    },
    {
      "cell_type": "markdown",
      "source": [
        "### **Pop**\n",
        "We have just seen that we can remove items from a list, but when we use `remove()` we lose the item. What if we wanted to remove an item but hold on to that item and do something with it in our code? The `pop()` method removes an element at a specified index and returns the removed value:"
      ],
      "metadata": {
        "id": "BnoFyZtw-R7A"
      }
    },
    {
      "cell_type": "code",
      "source": [
        "car = car_makes.pop(4)\n",
        "print(car)\n",
        "print(car_makes)"
      ],
      "metadata": {
        "id": "XrDi6bLAV0mV"
      },
      "execution_count": null,
      "outputs": []
    },
    {
      "cell_type": "markdown",
      "source": [
        "Using the `pop()` method we can see that we have \"popped\" the 'Jaguar' out of the list and into our `car` variable."
      ],
      "metadata": {
        "id": "OyNpBmDZWATU"
      }
    },
    {
      "cell_type": "code",
      "source": [
        "#Try popping the 'Aston Martin' from the car_makes list and assigning it to a new variable, print the variable and the list to see the result.\n",
        "\n"
      ],
      "metadata": {
        "id": "cSWHymbA-R7A"
      },
      "execution_count": null,
      "outputs": []
    },
    {
      "cell_type": "markdown",
      "source": [
        "### **Index**\n",
        "We just saw that using the `pop()` method required us to provide an index of the item we wish to remove. If we didn't know the index then we had to do a bit of manual looking up the values. Manual work is a bit counter-intuitive and so we have a friend in the `index()` method. The `index()` method will return the index of the first occurrence of a specified value. We could use the `index()` and `pop()` methods in conjunction:"
      ],
      "metadata": {
        "id": "m0T3sJLkW9Tj"
      }
    },
    {
      "cell_type": "code",
      "source": [
        "jeep_index = car_makes.index('Jeep')\n",
        "car = car_makes.pop(jeep_index)\n",
        "print(car)\n",
        "print(car_makes)"
      ],
      "metadata": {
        "id": "t9MwAb8_Yncv"
      },
      "execution_count": null,
      "outputs": []
    },
    {
      "cell_type": "markdown",
      "source": [
        "We were able to use the `index()` method to grab the index of 'Jeep'. Once we had the index we could \"pop\" the 'Jeep' item from the list. That worked a treat. Combinations of methods and code in this way can help us to implement effecient solutions in our code."
      ],
      "metadata": {
        "id": "eHONKDLdZOfW"
      }
    },
    {
      "cell_type": "code",
      "source": [
        "#Try popping the 'Porsche' from the car_makes list using the index() method and assigning it to a new variable, print the variable and the list to see the result.\n",
        "\n"
      ],
      "metadata": {
        "id": "fEgvwmOuW9To"
      },
      "execution_count": null,
      "outputs": []
    },
    {
      "cell_type": "markdown",
      "source": [
        "### **Sort**\n",
        "If you are a person that likes order then you are going to love the `sort()` method. Without entering any arguments the `sort()` method will arrange all items of the list in acsending order:"
      ],
      "metadata": {
        "id": "EIesMK99-j9_"
      }
    },
    {
      "cell_type": "code",
      "source": [
        "car_makes.sort()\n",
        "print(car_makes)"
      ],
      "metadata": {
        "id": "AYzLYI6p-j-A"
      },
      "execution_count": null,
      "outputs": []
    },
    {
      "cell_type": "markdown",
      "source": [
        "We can reverse the order using an optional keyword argument or kwarg, we will learn more about kwargs in a later tutorial. Kwargs allow arguments to have a key to refer their values to, this means arguments do not need to be entered in a specific order. The reverse kwarg of the `sort()` method expects a Boolean value, if that value is `True` the items of the list are arranged in descending order:"
      ],
      "metadata": {
        "id": "MHOl2BY3ccUe"
      }
    },
    {
      "cell_type": "code",
      "source": [
        "car_makes.sort(reverse=True)\n",
        "print(car_makes)"
      ],
      "metadata": {
        "id": "UvJ8q5sucVwS"
      },
      "execution_count": null,
      "outputs": []
    },
    {
      "cell_type": "markdown",
      "metadata": {
        "id": "LI-xbX7FUWK4"
      },
      "source": [
        "***"
      ]
    },
    {
      "cell_type": "markdown",
      "source": [
        "## **Nested Lists**"
      ],
      "metadata": {
        "id": "G1tFGhsB_EL9"
      }
    },
    {
      "cell_type": "markdown",
      "source": [
        "Lists can store values of many data types, even lists themselves. When a list is stored within a list we call this a **<font color=\"red\">nested</font>** list. Let's see an example:"
      ],
      "metadata": {
        "id": "n_8QOv7y_HJF"
      }
    },
    {
      "cell_type": "code",
      "source": [
        "my_list = [10, 20, [300, 400, 500], 60, 70]\n",
        "print(nested_list)"
      ],
      "metadata": {
        "id": "dO39e32u_gWa"
      },
      "execution_count": null,
      "outputs": []
    },
    {
      "cell_type": "markdown",
      "source": [
        "In the list above we can see the nested list is located at index 2. So how would we access a value from a nested list. We can access the nested list using a list index:"
      ],
      "metadata": {
        "id": "3z_E2GrH_4dK"
      }
    },
    {
      "cell_type": "code",
      "source": [
        "my_list[2]"
      ],
      "metadata": {
        "id": "TxZKYyzvAgHi"
      },
      "execution_count": null,
      "outputs": []
    },
    {
      "cell_type": "markdown",
      "source": [
        "Then if we add a second set of square brackets we can access a value from the nested list:"
      ],
      "metadata": {
        "id": "SSFzhJu0A3iL"
      }
    },
    {
      "cell_type": "code",
      "source": [
        "my_list[2][1]"
      ],
      "metadata": {
        "id": "7dAv6XfmA-zJ"
      },
      "execution_count": null,
      "outputs": []
    },
    {
      "cell_type": "markdown",
      "source": [
        "The code above retrieves the nested list from the `my_list` using the relevant index. The second index then retrieves a specified value from within the nested list. Try having a go yourself:"
      ],
      "metadata": {
        "id": "d0biSX8nBC6p"
      }
    },
    {
      "cell_type": "code",
      "source": [
        "#Using the list above try accessing the value 500 from the nested list using reverse indexing.\n",
        "\n"
      ],
      "metadata": {
        "id": "q4Ti4jsYCVHR"
      },
      "execution_count": null,
      "outputs": []
    },
    {
      "cell_type": "markdown",
      "source": [
        "Using multiple sets of square brackets allows us to drill down to the values we want to obtain. If we wanted to obtain a string from within a nested list and then obtain a slice of that string we could do this by drilling down using square brackets:"
      ],
      "metadata": {
        "id": "-XclOx8DQXKE"
      }
    },
    {
      "cell_type": "code",
      "source": [
        "#Run the code cell then try using reverse indexes and changing the slice to retrieve the word \"Hotspur\".\n",
        "football_teams=['Manchester City','Liverpool',['Chelsea', 'Tottenham Hotspur','Arsenal'],'Leiester']\n",
        "football_teams[2][1][0:9]"
      ],
      "metadata": {
        "id": "hebX2Be2M8jG"
      },
      "execution_count": null,
      "outputs": []
    },
    {
      "cell_type": "markdown",
      "metadata": {
        "id": "cDj5sd1jvuEX"
      },
      "source": [
        "## **Test What You've Learned**"
      ]
    },
    {
      "cell_type": "markdown",
      "source": [
        "It's that time again, the cupboards are bare and we need to sit down and write our shopping list. Using everything you have learned throughout the tutorial complete each step to get a list ready for your trip to the local supermarket:"
      ],
      "metadata": {
        "id": "hHootcYFi6OH"
      }
    },
    {
      "cell_type": "code",
      "source": [
        "#Create an empty list to store your shopping items.\n"
      ],
      "metadata": {
        "id": "uTuJK4ivi6Wg"
      },
      "execution_count": null,
      "outputs": []
    },
    {
      "cell_type": "code",
      "source": [
        "#Add apples, bananas and raspberries to your list and print the current list to the screen.\n"
      ],
      "metadata": {
        "id": "9iHw4sAvKw--"
      },
      "execution_count": null,
      "outputs": []
    },
    {
      "cell_type": "code",
      "source": [
        "#Add the contents of the frozen items to your shopping list and print the updated list to the screen.\n",
        "frozen_items = ['chips','pizza','ice-cream']\n"
      ],
      "metadata": {
        "id": "oOtFPmeVLSsU"
      },
      "execution_count": null,
      "outputs": []
    },
    {
      "cell_type": "code",
      "source": [
        "#Sort the shopping list in reverse order and print the current list to the screen.\n"
      ],
      "metadata": {
        "id": "LZCbbK3T_Z5b"
      },
      "execution_count": null,
      "outputs": []
    },
    {
      "cell_type": "code",
      "source": [
        "#Add the bakery_items to your shopping list as a nested list and print the updated list to the screen.\n",
        "#The bakery items should appear BEFORE the frozen items in the list. \n",
        "bakery_items = ['bread','teacakes','croissants']\n"
      ],
      "metadata": {
        "id": "fQKsXYPTMii5"
      },
      "execution_count": null,
      "outputs": []
    },
    {
      "cell_type": "code",
      "source": [
        "#Add the washing powder to your shopping list and print the updated list to the screen.\n",
        "#Washing Powder should be placed after the raspberries in the list.\n"
      ],
      "metadata": {
        "id": "oP6qqNasNG6d"
      },
      "execution_count": null,
      "outputs": []
    },
    {
      "cell_type": "code",
      "source": [
        "#Washing powder should actually be positioned after pizza in the list.\n",
        "#Use what you have learned to reposition the washing powder item and then print the updated list to the screen.\n"
      ],
      "metadata": {
        "id": "SzZBtUwF-VmN"
      },
      "execution_count": null,
      "outputs": []
    },
    {
      "cell_type": "markdown",
      "metadata": {
        "id": "vKoZDktRRiVx"
      },
      "source": [
        "***"
      ]
    },
    {
      "cell_type": "markdown",
      "source": [
        "You are trying to populate a record of the training that has been conducted in your workplace and have been provided a list of files. Your training record will only list the name of the training documents. In order to populate your training record you need to extract the name of the \"training\" file without the file extension to a new variable: "
      ],
      "metadata": {
        "id": "IgvgX9n9CI12"
      }
    },
    {
      "cell_type": "code",
      "source": [
        "files = ['really_important_file.pdf', 'another_powerpoint.ppt', 'annual_training.doc']\n",
        "\n"
      ],
      "metadata": {
        "id": "Gh7cQClOCI14"
      },
      "execution_count": null,
      "outputs": []
    },
    {
      "cell_type": "markdown",
      "metadata": {
        "id": "lmn6bz9ECKa0"
      },
      "source": [
        "***"
      ]
    },
    {
      "cell_type": "markdown",
      "metadata": {
        "id": "Alb6Y7VVWDrQ"
      },
      "source": [
        "##**Summary**\n",
        "\n",
        "We've learned about lists, how we can use them to store, edit and retrieve data. We've covered:\n",
        "\n",
        "1.   What are Lists?.\n",
        "2.   Why Use Lists?.\n",
        "3.   Creating Lists.\n",
        "4.   Accessing Data from Lists.\n",
        "5.   Editing Lists.\n",
        "6.   List Methods.\n",
        "7.   Nested Lists.\n",
        "\n",
        "This tutorial has looked at the first of four Python data structures we will be getting to know more about over the next couple of tutorials. Lists are commonly used in Python and favoured for their versatility. There are both similarities and differences to the way we interact with the different Python data structures and we will discover more as we learn about tuples, sets and dictionaries."
      ]
    },
    {
      "cell_type": "markdown",
      "metadata": {
        "id": "xJ2r6Qu1R0BG"
      },
      "source": [
        "***"
      ]
    },
    {
      "cell_type": "markdown",
      "metadata": {
        "id": "-ZsjgYV_5yqG"
      },
      "source": [
        "#**What you'll learn in the next tutorial?**\n",
        "\n",
        "In the next tutorial we will learn about tuples and sets. Tuples are similar to lists, however, they are immutable and so we cannot change the items inside them. Sets are data structures that can only contain unique values and are useful for avoiding duplicates in our stored data. We'll learn more in the next tutorial.\n",
        "\n",
        "From all of us at the NCGI Coding Club admin team,\n",
        "\n",
        "Happy Coding!\n"
      ]
    },
    {
      "cell_type": "markdown",
      "metadata": {
        "id": "e4-6NoKqR1M-"
      },
      "source": [
        "***"
      ]
    },
    {
      "cell_type": "markdown",
      "metadata": {
        "id": "UYEa01aeqY1O"
      },
      "source": [
        "#**Definitions and Terms**\n",
        "\n",
        "**<font color=\"red\">data structure - </font>** <font color=\"red\">Python data structures are containers that organise and group multiple data items.</font>\n",
        "\n",
        "**<font color=\"red\">mutable - </font>**<font color=\"red\">Mutable means changeable, if a data structure is mutable then the items within it can be changed.</font>\n",
        "\n",
        "**<font color=\"red\">nested - </font>**<font color=\"red\">In Python the term nested refers to being inside another item. A data structure inside another data structure would be considered nested.</font>\n"
      ]
    }
  ]
}