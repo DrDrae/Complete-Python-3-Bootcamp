{
  "nbformat": 4,
  "nbformat_minor": 0,
  "metadata": {
    "colab": {
      "name": "Python_02_Strings.ipynb",
      "provenance": [],
      "collapsed_sections": [],
      "toc_visible": true,
      "include_colab_link": true
    },
    "kernelspec": {
      "name": "python3",
      "display_name": "Python 3"
    },
    "language_info": {
      "name": "python"
    }
  },
  "cells": [
    {
      "cell_type": "markdown",
      "metadata": {
        "id": "view-in-github",
        "colab_type": "text"
      },
      "source": [
        "<a href=\"https://colab.research.google.com/github/DrDrae/Complete-Python-3-Bootcamp/blob/master/Python_02_Strings.ipynb\" target=\"_parent\"><img src=\"https://colab.research.google.com/assets/colab-badge.svg\" alt=\"Open In Colab\"/></a>"
      ]
    },
    {
      "cell_type": "markdown",
      "metadata": {
        "id": "gpnJb0pAJc5k"
      },
      "source": [
        "\n",
        "<img src=\"https://user-images.githubusercontent.com/91729702/148638441-cfe65bc3-9011-4e1a-861a-9bc780e76f8a.jpg\" alt=\"Wyton Station Logo\" width=\"100%\">\n"
      ]
    },
    {
      "cell_type": "markdown",
      "metadata": {
        "id": "73hkGlBmkii9"
      },
      "source": [
        "\n",
        "**<font color=\"grey\" size=5>Before you get started, don't forget to click \"File\" then \"Save a Copy in GitHub\" to save a copy of this tutorial into your GitHub repository. From the GitHub page that opens click the \"Open in Colab\" button to open your saved tutorial. Save any progress you make by clicking \"File\" then \"Save a Copy in GitHub\" again.</font>**"
      ]
    },
    {
      "cell_type": "markdown",
      "metadata": {
        "id": "zuYrYd78TSYj"
      },
      "source": [
        "**Note:**  If you see a word or phrase highlighted like this **<font color=\"red\">example</font>** you can find a definition in the **Definitions and Terms** section, located at the end of the tutorial."
      ]
    },
    {
      "cell_type": "markdown",
      "metadata": {
        "id": "4ztyeu1VTPrl"
      },
      "source": [
        "***"
      ]
    },
    {
      "cell_type": "markdown",
      "metadata": {
        "id": "Cjke0xC5JPc1"
      },
      "source": [
        "#**Introduction**\n"
      ]
    },
    {
      "cell_type": "markdown",
      "metadata": {
        "id": "W1KVO2n4mmar"
      },
      "source": [
        "In the previous tutorial we mentioned simple data types. The previous tutorial looked at integer and float data types and performing arithemetic using python operators. We also briefly learned about variables and variable assignment.\n",
        "\n",
        "This tutorial we will focus on a new data type as we learn about strings:\n",
        "\n",
        "**Simple data types:**\n",
        "\n",
        "*   <font color=\"grey\">Integer - Whole numbers.</font>\n",
        "*   <font color=\"grey\">Float - Decimal numbers.</font>\n",
        "*   **String - Text.**\n",
        "*   Boolean - True or False.\n",
        "\n",
        "Strings are another important data type and they are used in Python to record text information. Whether it's creating a file name or file path, adding a label to a Python generated chart or simply outputting a message to the user there are a variety of use cases that require strings. This tutorial will dive deeper into the string data type.\n",
        "\n",
        "#####**What you'll learn in this tutorial?**\n",
        "\n",
        "1.   Creating Strings.\n",
        "2.   Printing Strings.\n",
        "3.   String Indexing and Slicing.\n",
        "4.   String Immutability.\n",
        "5.   Built-in String Methods.\n",
        "\n",
        "At the end of the tutorial you will have the opportunity to test what you have learned."
      ]
    },
    {
      "cell_type": "markdown",
      "metadata": {
        "id": "e5rj5EfgRLZW"
      },
      "source": [
        "***"
      ]
    },
    {
      "cell_type": "markdown",
      "metadata": {
        "id": "HH_qTlPmyo0U"
      },
      "source": [
        "#**Strings in Python**\n"
      ]
    },
    {
      "cell_type": "markdown",
      "metadata": {
        "id": "9GxbKjPWl9_D"
      },
      "source": [
        "##**Creating a String**\n",
        "We've already looked at numbers and Python recognises integers or floats without any additional clarification of what their data type is. We could simply type `3` or `0.3` and Python can interperet these values and their type.\n",
        "\n",
        "Strings are a little different. Remember in the last tutorial we mentioned syntax? Syntax is the set of rules that define how code must be written to be understood by the programming language (Python).  Python syntax requires us to define the start and end of a string, this might sound complicated but it is really simple. We specify a string using quotes. All characters between a set of quotes are defined as a string. We have three different ways of doing this. Let's start by looking at the first two, we'll look at the third later when we cover printing strings. "
      ]
    },
    {
      "cell_type": "code",
      "metadata": {
        "id": "no5NhxglBWBU"
      },
      "source": [
        "#Single quotes\n",
        "'Hello World'"
      ],
      "execution_count": null,
      "outputs": []
    },
    {
      "cell_type": "code",
      "metadata": {
        "id": "JgvqgYhC3vg6",
        "outputId": "ac2084fa-d6af-4645-c1b3-19b663ebd167",
        "colab": {
          "base_uri": "https://localhost:8080/",
          "height": 35
        }
      },
      "source": [
        "#Double quotes\n",
        "\"Hello World\""
      ],
      "execution_count": 1,
      "outputs": [
        {
          "output_type": "execute_result",
          "data": {
            "text/plain": [
              "'Hello World'"
            ],
            "application/vnd.google.colaboratory.intrinsic+json": {
              "type": "string"
            }
          },
          "metadata": {},
          "execution_count": 1
        }
      ]
    },
    {
      "cell_type": "markdown",
      "metadata": {
        "id": "jcWz3g3JAhjq"
      },
      "source": [
        "Notice how the output of both single and double quote examples is `'Hello World'`. The presence of quotes in the output confirms that Python recognises this data as a string."
      ]
    },
    {
      "cell_type": "markdown",
      "metadata": {
        "id": "0hkSlcyaDbzb"
      },
      "source": [
        "Quotes must be used in pairs, if you start to define your string with a single quote then you must end with a single quote. The same can be said for double quotes. But, what if our string contains a quote like this example `I'm a string`. Let's give it a try:"
      ]
    },
    {
      "cell_type": "code",
      "metadata": {
        "id": "ClrfLHX_Eqx_"
      },
      "source": [
        "'I'm a string'"
      ],
      "execution_count": null,
      "outputs": []
    },
    {
      "cell_type": "markdown",
      "metadata": {
        "id": "td4cFf2AExKD"
      },
      "source": [
        "We get a syntax error. Believe me, when you start learning Python this is an error you will become all too familiar with. Python errors try to help us though, we are told that the syntax is invalid and we get an upward arrow cursor that points to the start of the error.\n",
        "\n",
        "What's happening here is the second quote that occurs in the word `I'm` ends the string definition. That means the charcters that follow are outside of the string definition and cause the error. The third quote at the end of the line of code actually informs python that a new string definition is starting so we can start to unbderstand why Python is getting so muddled. Like a lot of us, it likes rules and it likes it more when we follow them.\n",
        "\n",
        "So how de we get around this problem? What if we need a string to have a quote in it? We can do the following:"
      ]
    },
    {
      "cell_type": "code",
      "metadata": {
        "id": "piLjwOzEGfB6"
      },
      "source": [
        "#Double quotes to include a single quote string\n",
        "\"I'm a string\""
      ],
      "execution_count": null,
      "outputs": []
    },
    {
      "cell_type": "code",
      "metadata": {
        "id": "WjQb0LIPGi3c"
      },
      "source": [
        "#Single quotes to include a double quote string\n",
        "'\"I love Python\"'"
      ],
      "execution_count": null,
      "outputs": []
    },
    {
      "cell_type": "markdown",
      "metadata": {
        "id": "-c089vYgHIvQ"
      },
      "source": [
        "Whichever quotes we use to define the string we can use the alternate quotes as a character within our string. This avoids syntax errors due to ending the string definition prematurely. We need to be careful not to mix up quotes and ensure we start and end a string definition using matching quotes or we will get syntax errors as demonstrated below:"
      ]
    },
    {
      "cell_type": "code",
      "metadata": {
        "id": "JtrpNwJKM1o7"
      },
      "source": [
        "#Mixed quotes when defining a string will produce an error\n",
        "'Hello World\""
      ],
      "execution_count": null,
      "outputs": []
    },
    {
      "cell_type": "markdown",
      "metadata": {
        "id": "rHeHbGa4RP-N"
      },
      "source": [
        "***"
      ]
    },
    {
      "cell_type": "markdown",
      "metadata": {
        "id": "nzlj_rWjuhPX"
      },
      "source": [
        "### **Variable Assignment**"
      ]
    },
    {
      "cell_type": "markdown",
      "metadata": {
        "id": "DOwF1U143Mfw"
      },
      "source": [
        "Just like we learned in the previous tutorial with numbers, we can also assign string values to variables. We do this in the same way using an `=` to assign the value to a label as shown below:"
      ]
    },
    {
      "cell_type": "code",
      "metadata": {
        "id": "pkpuJo-P3NA9"
      },
      "source": [
        "#Assign a string value to a variable\n",
        "greeting = 'Hello World'"
      ],
      "execution_count": null,
      "outputs": []
    },
    {
      "cell_type": "code",
      "metadata": {
        "id": "0-RSYQENPO2f"
      },
      "source": [
        "#Output the value of the greeting variable\n",
        "greeting"
      ],
      "execution_count": null,
      "outputs": []
    },
    {
      "cell_type": "markdown",
      "metadata": {
        "id": "1WgEUo3qPgp5"
      },
      "source": [
        "## **String Concatenation**"
      ]
    },
    {
      "cell_type": "markdown",
      "metadata": {
        "id": "6BD9T-79Pgp5"
      },
      "source": [
        "When we learned about numbers we looked at how we used operators, such as `+`, to perform arithmetic claculations. The `+` operator can also be used in conjunction with strings to concatenate multiple strings together."
      ]
    },
    {
      "cell_type": "code",
      "metadata": {
        "id": "TsRQ4C_9QXo5"
      },
      "source": [
        "#The + operator is placed between string values that we want to join together\n",
        "'Hello' + ' World'"
      ],
      "execution_count": null,
      "outputs": []
    },
    {
      "cell_type": "markdown",
      "metadata": {
        "id": "_MlQvpXWRyoZ"
      },
      "source": [
        "Notice how in the above example there is a space at the start of the second string (World). This is because concatenation immediately attaches the additional string onto the end of the last character of the previous string. We therefore need to add a space character to seperate individual words if required."
      ]
    },
    {
      "cell_type": "markdown",
      "metadata": {
        "id": "DjDQ4xWSSxUg"
      },
      "source": [
        "We can also conduct string concatenation using variables. Below we have two variables that hold string values:"
      ]
    },
    {
      "cell_type": "code",
      "metadata": {
        "id": "G_LvQV0FPgp6"
      },
      "source": [
        "#Assign string values to variables\n",
        "word1 = 'Hello'\n",
        "word2 = ' World'"
      ],
      "execution_count": null,
      "outputs": []
    },
    {
      "cell_type": "markdown",
      "metadata": {
        "id": "9iO0x3z3TBdW"
      },
      "source": [
        "We can concatenate these string values by calling their variable names:"
      ]
    },
    {
      "cell_type": "code",
      "metadata": {
        "id": "AHmRyWvGPgp6"
      },
      "source": [
        "#Concatenate two variables.\n",
        "word1 + word2"
      ],
      "execution_count": null,
      "outputs": []
    },
    {
      "cell_type": "markdown",
      "metadata": {
        "id": "hga2lxuQT2Vq"
      },
      "source": [
        "We can also assign the result of this concatenation to a new variable:"
      ]
    },
    {
      "cell_type": "code",
      "metadata": {
        "id": "YCG1gB7aTmht"
      },
      "source": [
        "#Create a new variable and assign the result of the concatenation\n",
        "concat_words = word1 + word2"
      ],
      "execution_count": null,
      "outputs": []
    },
    {
      "cell_type": "code",
      "metadata": {
        "id": "XiQ902INUNZF"
      },
      "source": [
        "#Output the value of the created variable\n",
        "concat_words"
      ],
      "execution_count": null,
      "outputs": []
    },
    {
      "cell_type": "markdown",
      "metadata": {
        "id": "ZtWW19aKPgp6"
      },
      "source": [
        "***"
      ]
    },
    {
      "cell_type": "markdown",
      "metadata": {
        "id": "txYyaNw5lfGy"
      },
      "source": [
        "## **Printing a String**"
      ]
    },
    {
      "cell_type": "markdown",
      "metadata": {
        "id": "7dlkmmvGDSCf"
      },
      "source": [
        "Google Colab automatically outputs strings in code cells as we have seen so far in this tutorial. However, the correct way to display strings is to print them using the print **<font color=\"red\">function</font>**.\n",
        "\n",
        "Python functions will be covered in a future tutorial so for now we won't go into great detail. Functions are references to pre-defined blocks of code that perform a specific task."
      ]
    },
    {
      "cell_type": "markdown",
      "metadata": {
        "id": "W_NPhnbAZUDG"
      },
      "source": [
        "The syntax of a function is comprised of two key areas:\n",
        "\n",
        "**name(arguments)**\n",
        "\n",
        "The function name allows Python to reference and call the relevant block of code, the **<font color=\"red\">arguments</font>** are the information we provide to the function to conduct the specific task.\n",
        "\n",
        "Python includes many built-in functions of which `print()` is one of them. To better understand this concept let's view an example:"
      ]
    },
    {
      "cell_type": "code",
      "metadata": {
        "id": "ylF-HbQydQSd"
      },
      "source": [
        "#Output Hello World using the print() function\n",
        "print(\"Hello World\")"
      ],
      "execution_count": null,
      "outputs": []
    },
    {
      "cell_type": "markdown",
      "metadata": {
        "id": "dioGUHNkd1gh"
      },
      "source": [
        "Notice the ouput no longer is encased in quotes. The print function recieves \"Hello World\" as an argument and this is output to the screen as a message. Any argument passed to the print function is converted  to a string before being output as a message, this means we can use the print function on other data types too: "
      ]
    },
    {
      "cell_type": "code",
      "metadata": {
        "id": "EMarnOiXhtTO"
      },
      "source": [
        "#We can also print numbers\n",
        "print(100)"
      ],
      "execution_count": null,
      "outputs": []
    },
    {
      "cell_type": "code",
      "metadata": {
        "id": "ljB-AwTUh3il"
      },
      "source": [
        "#We can also print floats\n",
        "print(0.25)"
      ],
      "execution_count": null,
      "outputs": []
    },
    {
      "cell_type": "markdown",
      "metadata": {
        "id": "_0IK9kXejOkC"
      },
      "source": [
        "Remember the `concat_words` variable we created earlier, we can even print that:"
      ]
    },
    {
      "cell_type": "code",
      "metadata": {
        "id": "Qgkw8hOiiVsN"
      },
      "source": [
        "#We can even print variable values\n",
        "print(concat_words)"
      ],
      "execution_count": null,
      "outputs": []
    },
    {
      "cell_type": "markdown",
      "metadata": {
        "id": "y6kp_udmiPR9"
      },
      "source": [
        "It's important to note that when we reference variables we do not use quotes as this would print the variable name as a string instead of printing the value stored in that variable. Let's demonstrate this below:"
      ]
    },
    {
      "cell_type": "code",
      "metadata": {
        "id": "v5ElknQmjmpK"
      },
      "source": [
        "#Using quotes around variables will print that variable name as a string\n",
        "print('concat_words')"
      ],
      "execution_count": null,
      "outputs": []
    },
    {
      "cell_type": "code",
      "metadata": {
        "id": "oZZbxrCh3vrC"
      },
      "source": [
        "#Triple quotation marks\n",
        "'''Hello World'''"
      ],
      "execution_count": null,
      "outputs": []
    },
    {
      "cell_type": "markdown",
      "metadata": {
        "id": "vGaXA0ffUK7J"
      },
      "source": [
        "## **Built-In String Methods**"
      ]
    },
    {
      "cell_type": "markdown",
      "metadata": {
        "id": "vVotKmGQUK7J"
      },
      "source": [
        "Now we've briefly covered what a function is we can mention **<font color=\"red\">methods</font>**, methods will be explained further in a later tutorial so for now we'll give a basic explanation. Everything in Python is an **<font color=\"red\">object</font>** (objects will be covered in a future tutorial), different types of objects have different properties and different methods that belong to them. A method is essentially a function that belongs to a specific object. To access a method of an object we use dot notation syntax. Let's look at an example to better understand:"
      ]
    },
    {
      "cell_type": "code",
      "source": [
        "#Lets create a new variable and assign a new string\n",
        "my_string = \"hello world\"\n",
        "#Then let's print the string\n",
        "print(my_string)"
      ],
      "metadata": {
        "id": "FScpJxHf2z9j"
      },
      "execution_count": null,
      "outputs": []
    },
    {
      "cell_type": "markdown",
      "source": [
        "As expected the string we assigned to the variable is printed to the screen."
      ],
      "metadata": {
        "id": "Paag_WIf4R4E"
      }
    },
    {
      "cell_type": "code",
      "source": [
        "#Now lets use the .upper() method to reassign the my_string variable\n",
        "my_string = my_string.upper()\n",
        "#Then let's print the my_string variable\n",
        "print(my_string)"
      ],
      "metadata": {
        "id": "UI60LX-i3xZq"
      },
      "execution_count": null,
      "outputs": []
    },
    {
      "cell_type": "markdown",
      "source": [
        "So what has happened here? We can see the original string has been printed but is now all uppercase.\n",
        "\n",
        "**.upper()** is a built-in python method that belongs to any string object and converts all characters of a string to upper case. Methods are called using a full stop immediately after the object/variable that you wish to call it on. The fullstop essentially denotes that what is to the right side of it belongs to the left side and here we are calling the `upper()` method that belongs to the my_string variable. This method (and there are [others](https://docs.python.org/3/library/stdtypes.html#string-methods)) is built-in to python so python know's it exists within the string object.\n",
        "\n",
        "The method itself looks similar to a function and it is. The parenthesis/brackets are used in the same way to pass in arguments but there are no arguments neccessary for this example.\n",
        "\n",
        "Lets now look at a few more useful string methods:"
      ],
      "metadata": {
        "id": "GQuNYfVU4eeB"
      }
    },
    {
      "cell_type": "markdown",
      "source": [
        "**.lower()**:"
      ],
      "metadata": {
        "id": "GbdRwlH68swx"
      }
    },
    {
      "cell_type": "code",
      "source": [
        "#Now lets use the .lower() method to reassign the my_string variable\n",
        "my_string = my_string.lower()\n",
        "#Then let's print the my_string variable\n",
        "print(my_string)"
      ],
      "metadata": {
        "id": "Zc26VOFJ8n9J"
      },
      "execution_count": null,
      "outputs": []
    },
    {
      "cell_type": "markdown",
      "source": [
        "The `.lower()` method converts all string characters to lowercase."
      ],
      "metadata": {
        "id": "Yz0UKGU19po6"
      }
    },
    {
      "cell_type": "markdown",
      "source": [
        "**.title()**:"
      ],
      "metadata": {
        "id": "TMSUgKEQ80Hb"
      }
    },
    {
      "cell_type": "code",
      "source": [
        "#Now lets use the .title() method to reassign the my_string variable\n",
        "my_string = my_string.title()\n",
        "#Then let's print the my_string variable\n",
        "print(my_string)"
      ],
      "metadata": {
        "id": "sZgYAxN880He"
      },
      "execution_count": null,
      "outputs": []
    },
    {
      "cell_type": "markdown",
      "source": [
        "The `.title()` method converts the string to title case."
      ],
      "metadata": {
        "id": "F2LclTUr91K6"
      }
    },
    {
      "cell_type": "markdown",
      "source": [
        "**.split()**:"
      ],
      "metadata": {
        "id": "KE-mmYCV803K"
      }
    },
    {
      "cell_type": "code",
      "source": [
        "#Now lets use the .split() method to reassign the my_string variable\n",
        "my_string = my_string.split()\n",
        "#Then let's print the my_string variable\n",
        "print(my_string)"
      ],
      "metadata": {
        "id": "F4tzo7uW803L"
      },
      "execution_count": null,
      "outputs": []
    },
    {
      "cell_type": "markdown",
      "source": [
        "The `.split()` method works differently to the other methods seen so far. The method returns a new data type, a list (lists will be covered in a future tutorial). The list denoted by square brackets contains each individual word of the string seperated by a comma. The resulting list now contains two seperate strings, 'Hello' and 'World'. The `.split()` method splits the string up into individual words. When no argument is passed between the parenthesis/brackets the string is split wherever a space exists. Alternatively you can specify the character to split by adding it as an argument. Let's demonstrate this below:"
      ],
      "metadata": {
        "id": "tilwIIoC-AYq"
      }
    },
    {
      "cell_type": "code",
      "source": [
        "#Lets reassign the my_string variable back to a string value\n",
        "my_string = \"Hello World\"\n",
        "#Now lets use the .split() method to split the string at a specific character\n",
        "my_string = my_string.split('W')\n",
        "#Then let's print the my_string variable\n",
        "print(my_string)"
      ],
      "metadata": {
        "id": "TCrPqHqhAZw2"
      },
      "execution_count": null,
      "outputs": []
    },
    {
      "cell_type": "markdown",
      "source": [
        "This time we split the string by the letter 'W'. Again we can see we have a list returned but this time the second string in the list contains only those charcters after the split and the character we split by is omitted completely.\n",
        "\n",
        "There are several string methods that can be extremely useful and I would encourage you to look at the python documents or even google to learn more."
      ],
      "metadata": {
        "id": "pNhEqM_BBI4Z"
      }
    },
    {
      "cell_type": "markdown",
      "metadata": {
        "id": "hb3uKNWIUK7K"
      },
      "source": [
        "***"
      ]
    },
    {
      "cell_type": "markdown",
      "metadata": {
        "id": "cDj5sd1jvuEX"
      },
      "source": [
        "## **Test What You've Learned**"
      ]
    },
    {
      "cell_type": "markdown",
      "metadata": {
        "id": "OkyYmKvMv2OP"
      },
      "source": [
        "We have covered several new areas of this new data type so let's wrap this tutorial up with some consolidation exercises and challenges. Try your best to complete these yourself, if you do get stuck then feel free to look online or ask the community for help.\n",
        "\n",
        "The UK has produced some of the world's greatest bands throughout recent history. Using string concatenation and the provided variables to match the band to the correct era and print a statement for each pair. You may need to use string methods to display the band names correctly. The printed statement should look like:\n",
        "\n",
        "**The Beatles were a popular british band of the 60s**\n",
        "\n"
      ]
    },
    {
      "cell_type": "code",
      "metadata": {
        "id": "8H2QqpHuxvpQ"
      },
      "source": [
        "#British band variables.\n",
        "band1 = 'LeD ZePpElIn'\n",
        "band2 = 'Oasis'\n",
        "band3 = 'wham'\n",
        "band4 = 'Arctic MONKEYS'\n",
        "\n",
        "#Era variables.\n",
        "era1 = '80s'\n",
        "era2 = '2000s'\n",
        "era3 = '70s'\n",
        "era4 = '90s'"
      ],
      "execution_count": null,
      "outputs": []
    },
    {
      "cell_type": "code",
      "source": [
        "#Write some code to output the first band statement below.\n"
      ],
      "metadata": {
        "id": "w9ZvsVIeMgqW"
      },
      "execution_count": null,
      "outputs": []
    },
    {
      "cell_type": "code",
      "source": [
        "#Write some code to output the second band statement below.\n"
      ],
      "metadata": {
        "id": "TnpOxnmGMi1g"
      },
      "execution_count": null,
      "outputs": []
    },
    {
      "cell_type": "code",
      "source": [
        "#Write some code to output the third band statement below.\n"
      ],
      "metadata": {
        "id": "tBmnfPRGMl3L"
      },
      "execution_count": null,
      "outputs": []
    },
    {
      "cell_type": "code",
      "source": [
        "#Write some code to output the fourth band statement below.\n"
      ],
      "metadata": {
        "id": "FzZ4_0CIMl9X"
      },
      "execution_count": null,
      "outputs": []
    },
    {
      "cell_type": "markdown",
      "metadata": {
        "id": "kzBQRgYVRgCR"
      },
      "source": [
        "***"
      ]
    },
    {
      "cell_type": "markdown",
      "metadata": {
        "id": "Vlpym5M-R-w2"
      },
      "source": [
        "You are working on a team project investigating popular current tv series. Amongst the data that has been collecte is a single string of selected series but your team leader has asked you to provide a python list. As you have basic python knowledge you have been asked to convert this string into a list of unique shows. The list should only contain the tv series from the string and not contain any empty strings:"
      ]
    },
    {
      "cell_type": "code",
      "source": [
        "#String of tv series\n",
        "tv_series = \"Squid Game,Goggle Box,The Mandalorian,The Crown,The Walking Dead,Strictly Come Dancing,The X Files,I'm a Celibrity...Get Me Out of Here,Tiger King,Brooklyn Nine-Nine,The Office\""
      ],
      "metadata": {
        "id": "2O0NIXzwO16S"
      },
      "execution_count": null,
      "outputs": []
    },
    {
      "cell_type": "code",
      "source": [
        "#Write some code to convert the above string into a python list of tv series and print the output\n"
      ],
      "metadata": {
        "id": "7VA1zEA8QnjA"
      },
      "execution_count": null,
      "outputs": []
    },
    {
      "cell_type": "markdown",
      "metadata": {
        "id": "vKoZDktRRiVx"
      },
      "source": [
        "***"
      ]
    },
    {
      "cell_type": "markdown",
      "metadata": {
        "id": "Alb6Y7VVWDrQ"
      },
      "source": [
        "##**Summary**\n",
        "\n",
        "We've learned about string data types and how we can use them in Python. We've covered:\n",
        "\n",
        "1.   Creating strings.\n",
        "2.   String Concatenation.\n",
        "3.   Printing strings using the print() function.\n",
        "4.   Using built-in string methods.\n",
        "\n",
        "\n",
        "You have now been introduced to the string data type, an important data type as we can manipulate strings for file naming, editing text and labels within documents or spreadsheets or even printing messages to the screen. Application of these concepts to real world task automation or problem solving will come later as you learn more. Understanding these concepts are the building blocks to what you will be able to accomplish in the future.\n"
      ]
    },
    {
      "cell_type": "markdown",
      "metadata": {
        "id": "xJ2r6Qu1R0BG"
      },
      "source": [
        "***"
      ]
    },
    {
      "cell_type": "markdown",
      "metadata": {
        "id": "-ZsjgYV_5yqG"
      },
      "source": [
        "#**What you'll learn in the next tutorial?**\n",
        "\n",
        "We'll be back soon with another tutorial, but in the meantime feel free to practice what we've shown you so far.\n",
        "\n",
        "We're not done with strings just yet, next time we will look at some additional important aspects of manipulating strings and how we can use them in our code.\n",
        "\n",
        "From all of us at the Wyton Coding Club admin team,\n",
        "\n",
        "Happy Coding!\n"
      ]
    },
    {
      "cell_type": "markdown",
      "metadata": {
        "id": "e4-6NoKqR1M-"
      },
      "source": [
        "***"
      ]
    },
    {
      "cell_type": "markdown",
      "metadata": {
        "id": "UYEa01aeqY1O"
      },
      "source": [
        "#**Definitions and Terms**\n",
        "\n",
        "**<font color=\"red\">function - </font>** <font color=\"red\">Functions are references to pre-defined blocks of code that perform a specific task. It can receive input data as arguments to be used within the function.</font>\n",
        "\n",
        "**<font color=\"red\">argument - </font>**<font color=\"red\">The information we provide to a function to conduct the specific task</font>\n",
        "\n",
        "**<font color=\"red\">method - </font>**<font color=\"red\">A function that belongs to a specific object such as a string.</font>\n",
        "\n",
        "**<font color=\"red\">object - </font>**<font color=\"red\">an object has its own properties and methods. Everything in python is an object and has it's own specific properties and methods associated with it.</font>"
      ]
    }
  ]
}