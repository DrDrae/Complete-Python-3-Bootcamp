{
  "nbformat": 4,
  "nbformat_minor": 0,
  "metadata": {
    "colab": {
      "name": "Python_05_Conditional_Statements.ipynb",
      "provenance": [],
      "collapsed_sections": [],
      "include_colab_link": true
    },
    "kernelspec": {
      "name": "python3",
      "display_name": "Python 3"
    },
    "language_info": {
      "name": "python"
    }
  },
  "cells": [
    {
      "cell_type": "markdown",
      "metadata": {
        "id": "view-in-github",
        "colab_type": "text"
      },
      "source": [
        "<a href=\"https://colab.research.google.com/github/DrDrae/Complete-Python-3-Bootcamp/blob/master/Python_05_Conditional_Statements.ipynb\" target=\"_parent\"><img src=\"https://colab.research.google.com/assets/colab-badge.svg\" alt=\"Open In Colab\"/></a>"
      ]
    },
    {
      "cell_type": "markdown",
      "metadata": {
        "id": "gpnJb0pAJc5k"
      },
      "source": [
        "\n",
        "<img src=\"https://user-images.githubusercontent.com/91729702/148638441-cfe65bc3-9011-4e1a-861a-9bc780e76f8a.jpg\" alt=\"Wyton Station Logo\" width=\"100%\">\n"
      ]
    },
    {
      "cell_type": "markdown",
      "metadata": {
        "id": "73hkGlBmkii9"
      },
      "source": [
        "\n",
        "**<font color=\"grey\" size=5>Before you get started, don't forget to click \"File\" then \"Save a Copy in GitHub\" to save a copy of this tutorial into your GitHub repository. From the GitHub page that opens click the \"Open in Colab\" button to open your saved tutorial. Save any progress you make by clicking \"File\" then \"Save a Copy in GitHub\" again.</font>**"
      ]
    },
    {
      "cell_type": "markdown",
      "metadata": {
        "id": "zuYrYd78TSYj"
      },
      "source": [
        "**Note:**  If you see a word or phrase highlighted like this **<font color=\"red\">example</font>** you can find a definition in the **Definitions and Terms** section, located at the end of the tutorial."
      ]
    },
    {
      "cell_type": "markdown",
      "metadata": {
        "id": "4ztyeu1VTPrl"
      },
      "source": [
        "***"
      ]
    },
    {
      "cell_type": "markdown",
      "metadata": {
        "id": "Cjke0xC5JPc1"
      },
      "source": [
        "#**Introduction**\n"
      ]
    },
    {
      "cell_type": "markdown",
      "metadata": {
        "id": "W1KVO2n4mmar"
      },
      "source": [
        "Introduction placeholder\n",
        "\n",
        "#####**What you'll learn in this tutorial?**\n",
        "\n",
        "1.   What are Conditional Statements?\n",
        "2.   Why use Conditional Statements?\n",
        "3.   if Statements.\n",
        "4.   else Statements.\n",
        "5.   elif Statements.\n",
        "\n",
        "At the end of the tutorial you will have the opportunity to test what you have learned."
      ]
    },
    {
      "cell_type": "markdown",
      "metadata": {
        "id": "e5rj5EfgRLZW"
      },
      "source": [
        "***"
      ]
    },
    {
      "cell_type": "markdown",
      "metadata": {
        "id": "HH_qTlPmyo0U"
      },
      "source": [
        "#**Conditional Statements**\n"
      ]
    },
    {
      "cell_type": "markdown",
      "metadata": {
        "id": "9GxbKjPWl9_D"
      },
      "source": [
        "##**What are Conditional Statements?**\n"
      ]
    },
    {
      "cell_type": "markdown",
      "source": [
        "Conditional statements are a way to control the workflow of our code using **<font color=\"red\">branching</font>**. This basically means choosing to take one path over another. Python uses the `if`, `elif` and `else` statements to do this. Using these statements Python can branch into a section of code or skip it. Conditions are often created using comparison operators, we learned about comparison operators in the previous tutorial."
      ],
      "metadata": {
        "id": "BwPzv6RSh-6h"
      }
    },
    {
      "cell_type": "markdown",
      "metadata": {
        "id": "rHeHbGa4RP-N"
      },
      "source": [
        "***"
      ]
    },
    {
      "cell_type": "markdown",
      "metadata": {
        "id": "txYyaNw5lfGy"
      },
      "source": [
        "## **Why Use Conditional Statements?**"
      ]
    },
    {
      "cell_type": "markdown",
      "source": [
        "A Python script executes a little bit like a satellite navigation system follows a set of instructions to get from A to B. \n",
        "\n",
        "<img src=\"https://user-images.githubusercontent.com/91729702/148959262-15202e7c-1e6c-42e3-a505-40bf01e005e8.jpg\" alt=\"Wyton Station Logo\">\n",
        "\n",
        "\n",
        "The start of the journey is the first line of the code and it executes sequentially until it gets to the destination at the bottom of the code. If we were old school, using a map and set of directions we would be making decisions along that journey - \"Turn right on to Python Avenue\", \"Is this street Python Avenue\"?.\n",
        "\n",
        "We would do this by assessing conditions and carrying out an action:\n"
      ],
      "metadata": {
        "id": "QgVvW23lJrmE"
      }
    },
    {
      "cell_type": "markdown",
      "source": [
        "Condition - \"If this is Python Avenue?\"\n",
        "\n",
        "Action -  \"I will go this way\". \n",
        "\n"
      ],
      "metadata": {
        "id": "5b9gzNkelJqq"
      }
    },
    {
      "cell_type": "markdown",
      "source": [
        "Condition - \"If this isn't Python Avenue?\" \n",
        "\n",
        "Action - I'll keep going to the next street\"."
      ],
      "metadata": {
        "id": "VUZR9tY1lLQZ"
      }
    },
    {
      "cell_type": "markdown",
      "source": [
        "In Python, conditional statements are used to run certain portions of our code depending on the condition. Let's see what this looks like below:"
      ],
      "metadata": {
        "id": "bVRYF_cjlPuw"
      }
    },
    {
      "cell_type": "code",
      "source": [
        "#Run the cell once then try changing the street_name variable and running the cell again.\n",
        "street_name = 'Python Avenue'\n",
        "\n",
        "if street_name == 'Python Avenue':\n",
        "    print('Turn Right')\n",
        "else:\n",
        "   print('Continue Straight On')"
      ],
      "metadata": {
        "id": "0I40i6jZGXsv"
      },
      "execution_count": null,
      "outputs": []
    },
    {
      "cell_type": "markdown",
      "source": [
        "Don't worry if the code above looks a bit confusing right now. Throughout the tutorial we will explain the syntax and you'll be mastering conditional statements quicker than you can say \"Python Avenue\"."
      ],
      "metadata": {
        "id": "TegGn3VqjKcz"
      }
    },
    {
      "cell_type": "markdown",
      "source": [
        "***"
      ],
      "metadata": {
        "id": "ws3YP-gBJuUY"
      }
    },
    {
      "cell_type": "markdown",
      "source": [
        "## **if Statements**"
      ],
      "metadata": {
        "id": "sksBVa9DJ7Oj"
      }
    },
    {
      "cell_type": "markdown",
      "metadata": {
        "id": "CF_tZcpploTh"
      },
      "source": [
        "First let's look at the `if` statement. When we use the `if` statement we are looking to see if a specific condition exists. Let's look at an example:\n"
      ]
    },
    {
      "cell_type": "code",
      "source": [
        "pill = 'Red'\n",
        "\n",
        "if pill == 'Red':\n",
        "    print(\"Stay in Wonderland, and I show you how deep the rabbit hole goes\")"
      ],
      "metadata": {
        "id": "2zNpHWKciXUh"
      },
      "execution_count": null,
      "outputs": []
    },
    {
      "cell_type": "markdown",
      "source": [
        "Many of you will recognise the quote from The Matrix, the 1999 film where the main character Neo is offered the choice of a red or blue pill. Neo ultimately chooses the red pill and awakes from the artificial world of the Matrix in to the real world where humans are farmed by machines. The colour of the pill is the condition and the `print()` function is the action we branch to. Try changing the colour of the pill variable and running the cell above again. What happens?"
      ],
      "metadata": {
        "id": "V-HUfU6bsLMq"
      }
    },
    {
      "cell_type": "markdown",
      "source": [
        "\n",
        "\n",
        "Let's break down the syntax of the `if` statement:\n",
        "\n",
        "    if condition:\n",
        "        indented code block\n",
        "\n",
        "We start the `if` statement by typing the `if` **<font color=\"red\">keyword</font>** and this tells python we are using the `if` structure. Have you noticed in the code cells `if` is displayed in a different colour? This is called syntax highlighting, using different colours to highlight specific elements of our code to enhance readability. \n",
        "\n",
        "After the `if` we have a space and then we provide our condition, you should recognise the condition from the earlier examples are Boolean comparisons. You could use any Boolean comparison operators to write a condition. Immediately after the condition we have a colon(`:`). This is an important aspect of the `if` statement syntax as it tells Python that the following lines of code below it will be executed if the condition is `True`. \n",
        "\n",
        "The next line of code is indented (spaces at the beginning of the line) and this is essential. When indenting a line the code becomes a block, a **<font color=\"red\">code block</font>** is one or more consecutive lines indented by the same amount (the standard indent is four spaces). All the indented lines after the colon are run if the condition is `True`. If the condition is `False` then the indented block is skipped and Python continues on through the subsequent lines of our code.\n",
        "\n",
        "This code structure serves two purposes in that it makes the code visually easy to read and informs Python of the logic we wish to apply."
      ],
      "metadata": {
        "id": "vCg9QgG8s7NU"
      }
    },
    {
      "cell_type": "markdown",
      "source": [
        "A useful way to remember the syntax of `if`, `else` and the `elif` statements is to think of bullet points. When we write bullet points we normally write them like this:\n",
        "\n",
        "I want to read the following books:\n",
        "\n",
        "*   The Handmaid's Tale\n",
        "*   The Davinci Code\n",
        "\n",
        "The books listed are indented and they are associated to the preceding line ending with a colon. Python's syntax uses a similar association between conditional statement and the lines of code that execute when it is met.\n"
      ],
      "metadata": {
        "id": "iY4TrYZwNf0p"
      }
    },
    {
      "cell_type": "markdown",
      "source": [
        "We said you could use any comparison operators to form a condition so let's look at a few more examples:"
      ],
      "metadata": {
        "id": "bMqw4FzXzdz6"
      }
    },
    {
      "cell_type": "code",
      "source": [
        "age = 18\n",
        "\n",
        "if age >= 18:\n",
        "    print('You may purchase alcohol in the UK')"
      ],
      "metadata": {
        "id": "TCUj5K2azpgi"
      },
      "execution_count": null,
      "outputs": []
    },
    {
      "cell_type": "code",
      "source": [
        "year = 2022\n",
        "\n",
        "if year != 2025:\n",
        "    print('The year is not 2025')"
      ],
      "metadata": {
        "id": "MNVs8fhVRo_B"
      },
      "execution_count": null,
      "outputs": []
    },
    {
      "cell_type": "code",
      "source": [
        "rain = True\n",
        "\n",
        "if rain:\n",
        "    print('You should wear your coat')"
      ],
      "metadata": {
        "id": "ZsJFk4fI0EaT"
      },
      "execution_count": null,
      "outputs": []
    },
    {
      "cell_type": "markdown",
      "source": [
        "In the last example we don't use a comparison operator as we are using a value that is already Boolean. Because the value of the rain variable is `True` the code block is run. This is a useful shortcut to writing `if rain == True`."
      ],
      "metadata": {
        "id": "sY_BrUKgTE4y"
      }
    },
    {
      "cell_type": "markdown",
      "source": [
        "We mentioned that **<font color=\"red\">indentation</font>** is essential. What happens if we make a mistake?"
      ],
      "metadata": {
        "id": "-6JzLKlpUYsa"
      }
    },
    {
      "cell_type": "code",
      "source": [
        "#Run this code cell and you will see the code generates an error.\n",
        "#Try to fix it and then run this cell again.\n",
        "sun = True\n",
        "\n",
        "if sun:\n",
        "print('You should apply sun cream')"
      ],
      "metadata": {
        "id": "SixLAg5qUXeS"
      },
      "execution_count": null,
      "outputs": []
    },
    {
      "cell_type": "markdown",
      "source": [
        "In the error above you can see Python kindly clarifies that the error is an indentation error. Thanks Python."
      ],
      "metadata": {
        "id": "OBDSkofLVwOi"
      }
    },
    {
      "cell_type": "markdown",
      "source": [
        "Now you try writing an if statement yourself. Pay attention to indentation:"
      ],
      "metadata": {
        "id": "SVsS_VX1A5Ht"
      }
    },
    {
      "cell_type": "code",
      "source": [
        "#Use the variables below to write an if statement.\n",
        "#You should print a relavant message if alcohol can be purchased in the USA.\n",
        "age = 23\n",
        "age_limit_usa = 21\n",
        "\n"
      ],
      "metadata": {
        "id": "0uLc7zhjA_HW"
      },
      "execution_count": null,
      "outputs": []
    },
    {
      "cell_type": "markdown",
      "source": [
        "We can refine our conditions using Boolean operators as well as comparison operators. Let's have a look:"
      ],
      "metadata": {
        "id": "QSxD7nr7WS-y"
      }
    },
    {
      "cell_type": "code",
      "source": [
        "x = 6\n",
        "\n",
        "if x >= 2 and x <= 10:\n",
        "    print('The number is between 2 and 10')"
      ],
      "metadata": {
        "id": "Q0aU_TnN0ZSC"
      },
      "execution_count": null,
      "outputs": []
    },
    {
      "cell_type": "code",
      "source": [
        "movie = 'The Matrix'\n",
        "\n",
        "if movie == 'The Matrix' or movie == 'Sliding Doors':\n",
        "    print(\"Let's watch this movie\")"
      ],
      "metadata": {
        "id": "webALwz1XUqL"
      },
      "execution_count": null,
      "outputs": []
    },
    {
      "cell_type": "markdown",
      "source": [
        "We can also use expressions inside the code block of our `if` statements:"
      ],
      "metadata": {
        "id": "iT2ouzBDYJ97"
      }
    },
    {
      "cell_type": "code",
      "source": [
        "length = 4\n",
        "width = 2\n",
        "\n",
        "if length != width:\n",
        "    area = length*width\n",
        "    print('The shape is a rectangle.')\n",
        "    print(f'The area is {area} metres squared.')"
      ],
      "metadata": {
        "id": "SsdqNrnJYgBK"
      },
      "execution_count": null,
      "outputs": []
    },
    {
      "cell_type": "markdown",
      "source": [
        "In the example above we have 3 indented lines that comprise the code block.Notice how we assign a new variable inside the `if` statement and we use this in the second `print()` function. Try adding a new code cell below and replicate the above code to work for a square."
      ],
      "metadata": {
        "id": "zw_Ndeg6aOfz"
      }
    },
    {
      "cell_type": "markdown",
      "metadata": {
        "id": "1hZqrhG6RTqs"
      },
      "source": [
        "***"
      ]
    },
    {
      "cell_type": "markdown",
      "source": [
        "## **else Statements**"
      ],
      "metadata": {
        "id": "xH-XY8VmUeL1"
      }
    },
    {
      "cell_type": "markdown",
      "source": [
        "So far we have learned to use `if` statements to check for a condition. We know that if the condition is `True` our indented code block will execute, but what happens to everything else that's not `True`. Python has a way to capture everything else that doesn't meet the condition of the `if` statement and that is to use an `else` statement. The `else` statement must come after the `if` statement and does not require a condition. Let's go back to our alcohol age limit example to demonstrate:"
      ],
      "metadata": {
        "id": "GA-CT32PUjpq"
      }
    },
    {
      "cell_type": "code",
      "source": [
        "#Try changing the age variable to values above and below 18 and re-running the cell.\n",
        "age = 17\n",
        "\n",
        "if age >= 18:\n",
        "    print('You may purchase alcohol in the UK')\n",
        "else:\n",
        "    print('You are too young to purchase alcohol in the UK')"
      ],
      "metadata": {
        "id": "kHnQiFIaQaOm"
      },
      "execution_count": null,
      "outputs": []
    },
    {
      "cell_type": "markdown",
      "source": [
        "The code above is much more logical and can provide a message when a specific condition is met as well as a message when it is not.\n",
        "\n",
        "The syntax of the else statement is similar, but the key point to note here is that the `else` keyword is not indented and is in line with the original `if` statement. This is important for Python to correctly recognise our if/else structure. We can see that no condition is provided for the else statement and so it is immediately followed by a colon. The colon as with the `if` statement is the final element of that line of code and the subsequent lines of code are indented.\n"
      ],
      "metadata": {
        "id": "eLV0hcO_f3x8"
      }
    },
    {
      "cell_type": "markdown",
      "source": [
        "Try having a go yourself at adding `else` to an `if` statement. You work as a very particular vet, only treating cats and dogs. In the code cell below write an `if` statement that checks the condition of the whiskers variable. If the animal has whiskers print \"The animal is a cat\", otherwise \"The animal is a dog\"."
      ],
      "metadata": {
        "id": "iMN8RzTbkZLb"
      }
    },
    {
      "cell_type": "code",
      "source": [
        "whiskers = False\n",
        "\n"
      ],
      "metadata": {
        "id": "Tu_6z2A3k3Nq"
      },
      "execution_count": null,
      "outputs": []
    },
    {
      "cell_type": "markdown",
      "metadata": {
        "id": "PFhaYFm6Ufpk"
      },
      "source": [
        "***"
      ]
    },
    {
      "cell_type": "markdown",
      "source": [
        "## **elif Statements**"
      ],
      "metadata": {
        "id": "qVC0kCjeiAj1"
      }
    },
    {
      "cell_type": "markdown",
      "source": [
        "So far we have learned about `if` and `else` statements. Our conditional world is very cat and dog, very black and white, but the real world is a whole spectrum of choices and decisions. Python gives us the ability to have multiple branches to our conditional statements using the `elif` statement. Let's have a look at an example:"
      ],
      "metadata": {
        "id": "mUV55pAZiAkN"
      }
    },
    {
      "cell_type": "code",
      "source": [
        "#Try changing the colour variable to different colour values and re-running the cell.\n",
        "colour = 'Green'\n",
        "\n",
        "if colour == 'Red':\n",
        "    print('The colour is Red')\n",
        "elif colour == 'Yellow':\n",
        "    print('The colour is Yellow')\n",
        "else:\n",
        "    print('The colour is not Red or Yellow')"
      ],
      "metadata": {
        "id": "pZ4SUyCviAkN"
      },
      "execution_count": null,
      "outputs": []
    },
    {
      "cell_type": "markdown",
      "source": [
        "The syntax of the `elif` statement is the same as the `if` statement and the line of code is in line with the preceeding `if` statement.\n",
        "\n",
        "\n"
      ],
      "metadata": {
        "id": "80SyX3seNXyd"
      }
    },
    {
      "cell_type": "markdown",
      "source": [
        "    if condition:\n",
        "        code block\n",
        "    elif condition:\n",
        "        code block"
      ],
      "metadata": {
        "id": "RpS1-QU1n1bw"
      }
    },
    {
      "cell_type": "markdown",
      "source": [
        " A space follows the `elif` keyword, then a condition and the statement ends with a colon. The code block of the `elif` statement is indented as we have already seen with th `if` and `else` statements.\n",
        "\n",
        "We can use as many `elif` statements as we want but the must be after the `if` statement and before the `else` statement. Let's see an example of a multiple branch `if` statement below:"
      ],
      "metadata": {
        "id": "JE1cpvjynx0y"
      }
    },
    {
      "cell_type": "code",
      "source": [
        "#Try changing the colour variable to different colour values and re-running the cell.\n",
        "colour = 'Blue'\n",
        "\n",
        "if colour == 'Red':\n",
        "    print('The colour is Red')\n",
        "elif colour == 'Yellow':\n",
        "    print('The colour is Yellow')\n",
        "elif colour == 'Green':\n",
        "    print('The colour is Green')\n",
        "elif colour == 'Blue':\n",
        "    print('The colour is Blue')    \n",
        "else:\n",
        "    print(f'The colour {colour} is not recognised')"
      ],
      "metadata": {
        "id": "QBuG-j5omNnW"
      },
      "execution_count": null,
      "outputs": []
    },
    {
      "cell_type": "markdown",
      "source": [
        "When using multiple branches we need to be careful of the order of our conditions, as soon as one condition branch is met the if structure will end. \n",
        "\n",
        "<img src=\"https://user-images.githubusercontent.com/91729702/149140251-0290ad9c-c912-477c-837d-4f7eb11d4aea.jpg\" alt=\"Wyton Station Logo\" width=\"40%\">\n",
        "\n",
        "Look at the example below:"
      ],
      "metadata": {
        "id": "q0Ft0fDLpySx"
      }
    },
    {
      "cell_type": "code",
      "source": [
        "#Try changing the num variable to different values and re-running the cell.\n",
        "num = 43\n",
        "\n",
        "if num > 10:\n",
        "    print('The number is greater than 10')\n",
        "elif num > 20:\n",
        "    print('The number is greater than 20')\n",
        "elif num > 30:\n",
        "    print('The number is greater than 30')\n",
        "elif num > 40:\n",
        "    print('The number is greater than 40')    \n",
        "else:\n",
        "    print('The number is less than 10')"
      ],
      "metadata": {
        "id": "awes7863ompE"
      },
      "execution_count": null,
      "outputs": []
    },
    {
      "cell_type": "markdown",
      "source": [
        "Any number over 10 will meet the condition of the first `if` statement and the other branches will be skipped. This logic and syntax is correct to Python and will not cause an error but it is not correct for our intended purpose. Try reordering the conditions so that the `if` structure runs correctly.\n",
        "\n",
        "\n",
        "\n"
      ],
      "metadata": {
        "id": "zX8NILTPqjS6"
      }
    },
    {
      "cell_type": "markdown",
      "metadata": {
        "id": "EC39PE1uiAkO"
      },
      "source": [
        "***"
      ]
    },
    {
      "cell_type": "markdown",
      "metadata": {
        "id": "cDj5sd1jvuEX"
      },
      "source": [
        "## **Test What You've Learned**"
      ]
    },
    {
      "cell_type": "markdown",
      "metadata": {
        "id": "OkyYmKvMv2OP"
      },
      "source": [
        "Fantastic! You are really starting to get into the Python logic with this tutorial into conditional statements. We've looked at `if`, `else` and `elif` conditional statements and how we can use them to branch our code to carry out specific actions. Syntax and indentation is key here with these new concepts so remember that as you put them into practice."
      ]
    },
    {
      "cell_type": "markdown",
      "source": [
        "To make this even more fun let's introduce the `input()` function:"
      ],
      "metadata": {
        "id": "C4je5ccbZ2wg"
      }
    },
    {
      "cell_type": "code",
      "source": [
        "#Try running the code below, you will see a box pop up in which you can type some text and then press enter.\n",
        "name = input('What is your name?')\n",
        "print(f'Hello {name}')"
      ],
      "metadata": {
        "id": "FAnq52n8VWdk"
      },
      "execution_count": null,
      "outputs": []
    },
    {
      "cell_type": "markdown",
      "source": [
        "The `input()` function takes a string label as an argument. This label appears next to the input box and informs the user what to enter. No matter if we write text or numbers the `input()` function will return the string value of whatever is typed into the input box. In the code above we assign that input to the variable name and then print the name to the screen. Pretty cool."
      ],
      "metadata": {
        "id": "sbrOhTlAae6p"
      }
    },
    {
      "cell_type": "markdown",
      "source": [
        "Let's try a few conditional statement exercises using this `input()` function.\n",
        "\n",
        "You have recently taken a job as a receptionist at MI5. You are still getting to know everyone but you have strict instructions to greet Bond accordingly:"
      ],
      "metadata": {
        "id": "15KcphKBZ-ow"
      }
    },
    {
      "cell_type": "code",
      "metadata": {
        "id": "8H2QqpHuxvpQ"
      },
      "source": [
        "#Write a conditional statement to check if the entered name is Bond.\n",
        "#If the name is Bond print \"Welcome agent 007\" \n",
        "#otherwise print \"Welcome {name}\"\n",
        "name = input('What is your name?')\n",
        "\n"
      ],
      "execution_count": null,
      "outputs": []
    },
    {
      "cell_type": "markdown",
      "source": [
        "The new job is going great and you've even been able to remember people's codenames (well 3 of them at least):"
      ],
      "metadata": {
        "id": "SO2WqTV7vG78"
      }
    },
    {
      "cell_type": "code",
      "source": [
        "#Write a conditional statement to check the input codename and print a relevant greeting.\n",
        "#If the codename is 007 print \"Welcome Mr Bond\"\n",
        "#If the codename is M print \"Welcome Olivia Mansfield\"\n",
        "#If the codename is Q print \"Welcome Quartermaster\"\n",
        "#any other entry should be ignored.\n",
        "codename = input('Enter Codename?')\n",
        "\n"
      ],
      "metadata": {
        "id": "gjMSR6_7jNM7"
      },
      "execution_count": null,
      "outputs": []
    },
    {
      "cell_type": "markdown",
      "source": [
        "Hopefully those exercises have you neither shaken nor stirred."
      ],
      "metadata": {
        "id": "OD0bnmgsjl0p"
      }
    },
    {
      "cell_type": "markdown",
      "metadata": {
        "id": "kzBQRgYVRgCR"
      },
      "source": [
        "***"
      ]
    },
    {
      "cell_type": "markdown",
      "source": [
        "For the next exercise let's introduce the `randint()` function from the random **<font color=\"red\">module</font>**. We will discuss modules in a later tutorial but for now all you need to know is that a module is essentially a code library. We can import that library to access the pre-built functions from it among other things. First we import the module then we access the part of the code library we need using dot notation. We only need to import the module once and then we can access it in any of our subsequent code. Let's have a look:"
      ],
      "metadata": {
        "id": "QPq0o4sekeRz"
      }
    },
    {
      "cell_type": "code",
      "source": [
        "import random\n",
        "\n",
        "random.randint(1,10)\n"
      ],
      "metadata": {
        "id": "QfosgjgSlq6E"
      },
      "execution_count": null,
      "outputs": []
    },
    {
      "cell_type": "markdown",
      "source": [
        "The `randint()` function returns an integer number from a specified range. The first argument is the start of the range and the second argument is the limit of the range. The above example will return a random number between 1 and 10 inclusive. Running the cell will generate a different random number each time. Now let's try some more exercises:"
      ],
      "metadata": {
        "id": "2KrPKcQIr0Wv"
      }
    },
    {
      "cell_type": "markdown",
      "metadata": {
        "id": "Vlpym5M-R-w2"
      },
      "source": [
        "The receptionist job didn't work out, too many Martini's at the Christmas function left you looking for a new job. Fortunately, a job came up moderating exams. You have been asked to compare exam scores with the time the student has spent revising. Any concerning scores should be reported accordingly:"
      ]
    },
    {
      "cell_type": "code",
      "metadata": {
        "id": "rdgaEmmzTZvu"
      },
      "source": [
        "#Write a conditional statement that checks the test score and the hours revised.\n",
        "#If the score is 70 or above but the hours revised are below 5 then print a statement to suggest the student cheated including their score and hours studied.\n",
        "#If the score is below 50 but the hours studied are above 15 then print a statement to suggest a review of the student's revision including their score and hours studied.\n",
        "#If the score is below 20 or the hours studied are 2 or below then print a warning to the student including their score and hours studied.\n",
        "#If nothing of concern print a statement including the test score and the hours studied to the screen.\n",
        "test_score = random.randint(1,100)\n",
        "hours_revised = random.randint(1,20)\n",
        "\n"
      ],
      "execution_count": null,
      "outputs": []
    },
    {
      "cell_type": "markdown",
      "source": [
        "The student's are revolting, time for another change. You're jetting across the pond to start an exclusive bartender job in New York. This seems like a good opportunity, you need to make sure you greet everyone and make sure we don't serve anyone underage:"
      ],
      "metadata": {
        "id": "Rd5vPE861mpY"
      }
    },
    {
      "cell_type": "code",
      "source": [
        "#Write a conditional statement that checks the age against the age limit.\n",
        "#If the person is 21 or above then print a statement greeting them by name and asking what they would like?\n",
        "#If the person is under 21 you should greet them by name and tell them they can comeback in # years.\n",
        "#You will need to use some calculation and your own variables to inform them how long.\n",
        "name = input('What is your name?')\n",
        "random.randint(17,25)\n",
        "age_limit = 21\n",
        "\n"
      ],
      "metadata": {
        "id": "xZOyOjPi1mBV"
      },
      "execution_count": null,
      "outputs": []
    },
    {
      "cell_type": "markdown",
      "metadata": {
        "id": "vKoZDktRRiVx"
      },
      "source": [
        "***"
      ]
    },
    {
      "cell_type": "markdown",
      "metadata": {
        "id": "Alb6Y7VVWDrQ"
      },
      "source": [
        "##**Summary**\n",
        "\n",
        "We've learned about conditional statements, how we can use them in Python to control the workflow of our code. This tutorial has covered the following:\n",
        "\n",
        "1.   What are Conditional Statements?\n",
        "2.   Why use Conditional Statements?\n",
        "3.   if Statements.\n",
        "4.   else Statements.\n",
        "5.   elif Statements.\n",
        "\n",
        "This tutorial introduces us to the application of logic in Python. This is where things get really interesting and i'm sure you are already considering ways in which you could apply this logic. Well done for making it this far."
      ]
    },
    {
      "cell_type": "markdown",
      "metadata": {
        "id": "xJ2r6Qu1R0BG"
      },
      "source": [
        "***"
      ]
    },
    {
      "cell_type": "markdown",
      "metadata": {
        "id": "-ZsjgYV_5yqG"
      },
      "source": [
        "#**What you'll learn in the next tutorial?**\n",
        "\n",
        "The next tutorial we will look at functions in more detail. We've already seen a few functions such as `print()`, `str()`, `int()`, `input()`, `type()` to name a few. Functions play a major part in our Python code, both using built-in functions and the ability to create our own functions.\n",
        "\n",
        "From all of us at the NCGI Coding Club admin team,\n",
        "\n",
        "Happy Coding!\n"
      ]
    },
    {
      "cell_type": "markdown",
      "metadata": {
        "id": "e4-6NoKqR1M-"
      },
      "source": [
        "***"
      ]
    },
    {
      "cell_type": "markdown",
      "metadata": {
        "id": "UYEa01aeqY1O"
      },
      "source": [
        "#**Definitions and Terms**\n",
        "\n",
        "**<font color=\"red\">branching - </font>** <font color=\"red\">Changing the normal flow that code will be executed based on a condition.</font>\n",
        "\n",
        "**<font color=\"red\">keyword - </font>**<font color=\"red\">Special reserved words that have specific meanings and purposes and can't be used for anything but those specific purposes.</font>\n",
        "\n",
        "**<font color=\"red\">code block - </font>**<font color=\"red\">A collection of code that is in the same block or indent.</font>\n",
        "\n",
        "**<font color=\"red\">indentation - </font>**<font color=\"red\">Spaces given at the start of a line of code that tell Python that the line of code belongs to a particular code block.</font>\n",
        "\n",
        "**<font color=\"red\">module - </font>**<font color=\"red\">A code library or a file that contains a set of functions that you want to include in your Python script.</font>\n"
      ]
    }
  ]
}